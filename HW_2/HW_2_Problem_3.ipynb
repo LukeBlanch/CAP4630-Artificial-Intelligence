{
  "nbformat": 4,
  "nbformat_minor": 0,
  "metadata": {
    "colab": {
      "name": "HW_2_Problem_3.ipynb",
      "provenance": [],
      "authorship_tag": "ABX9TyNg0gBU7qRNlvnQRRXLhmHg",
      "include_colab_link": true
    },
    "kernelspec": {
      "name": "python3",
      "display_name": "Python 3"
    },
    "accelerator": "GPU"
  },
  "cells": [
    {
      "cell_type": "markdown",
      "metadata": {
        "id": "view-in-github",
        "colab_type": "text"
      },
      "source": [
        "<a href=\"https://colab.research.google.com/github/LukeBlanch/CAP4630-Artificial-Intelligence/blob/master/HW_2/HW_2_Problem_3.ipynb\" target=\"_parent\"><img src=\"https://colab.research.google.com/assets/colab-badge.svg\" alt=\"Open In Colab\"/></a>"
      ]
    },
    {
      "cell_type": "markdown",
      "metadata": {
        "id": "3DgP3Fi5WEJr",
        "colab_type": "text"
      },
      "source": [
        "# Homework 2 Problem 2:\n",
        "## Luke Blanchard\n"
      ]
    },
    {
      "cell_type": "markdown",
      "metadata": {
        "id": "L9q7J750WN5B",
        "colab_type": "text"
      },
      "source": [
        "## Imports\n"
      ]
    },
    {
      "cell_type": "code",
      "metadata": {
        "id": "POU7wl5-Vq3P",
        "colab_type": "code",
        "outputId": "fa56780f-1a35-4af0-e8c0-039995bf769c",
        "colab": {
          "base_uri": "https://localhost:8080/",
          "height": 34
        }
      },
      "source": [
        "# Import tensorflow and keras\n",
        "%tensorflow_version 2.x\n",
        "import numpy as np\n",
        "%matplotlib inline\n",
        "import matplotlib.pyplot as plt\n",
        "import tensorflow as tf\n",
        "from tensorflow import keras\n",
        "\n",
        "# Import tensorflow datasets\n",
        "import tensorflow_datasets as tfds"
      ],
      "execution_count": 0,
      "outputs": [
        {
          "output_type": "stream",
          "text": [
            "TensorFlow 2.x selected.\n"
          ],
          "name": "stdout"
        }
      ]
    },
    {
      "cell_type": "markdown",
      "metadata": {
        "id": "ad9ax5-SXgLS",
        "colab_type": "text"
      },
      "source": [
        "## Load the dataset\n"
      ]
    },
    {
      "cell_type": "code",
      "metadata": {
        "id": "kcL6wy7eXkTR",
        "colab_type": "code",
        "colab": {}
      },
      "source": [
        "# Construct a tf.data.Dataset\n",
        "dataset = tfds.load(name=\"mnist\", split=\"train\")\n",
        "i = 0\n",
        "# Build your input pipeline\n",
        "dataset = dataset.shuffle(60000).batch(60000).prefetch(tf.data.experimental.AUTOTUNE)\n",
        "for features in dataset.take(1):\n",
        "  image, label = features[\"image\"], features[\"label\"]\n"
      ],
      "execution_count": 0,
      "outputs": []
    },
    {
      "cell_type": "markdown",
      "metadata": {
        "id": "93uqCrvIsofL",
        "colab_type": "text"
      },
      "source": [
        "# Calculate the average MNIST digit image:"
      ]
    },
    {
      "cell_type": "code",
      "metadata": {
        "id": "ZIikgGC8c-lP",
        "colab_type": "code",
        "colab": {}
      },
      "source": [
        "def print_average_MNIST_digit():\n",
        "  plt.figure(figsize=(28, 28))\n",
        "  # For all the digits in the dataset\n",
        "  for n in range(10):\n",
        "    sum = np.zeros((28,28))\n",
        "    total = 0\n",
        "    for i in range(60000):\n",
        "      if (label[i] == n):\n",
        "        for j in range(28):\n",
        "          for k in range(28):\n",
        "            sum[j][k] += int(image[i][j][k])\n",
        "        total += 1\n",
        "\n",
        "    average = np.zeros((28,28))\n",
        "    for a in range(28):\n",
        "      for b in range(28):\n",
        "        average[a][b] = int(sum[a][b]/total)\n",
        "\n",
        "    ax = plt.subplot(1, 10, n+1)\n",
        "    plt.imshow(average)\n",
        "    plt.title(n)\n",
        "    plt.axis('off')"
      ],
      "execution_count": 0,
      "outputs": []
    },
    {
      "cell_type": "code",
      "metadata": {
        "id": "7kV1eglveHam",
        "colab_type": "code",
        "colab": {
          "base_uri": "https://localhost:8080/",
          "height": 179
        },
        "outputId": "8100e365-9fac-4b5a-ae0f-dbf75dbb97c9"
      },
      "source": [
        "print_average_MNIST_digit()"
      ],
      "execution_count": 4,
      "outputs": [
        {
          "output_type": "display_data",
          "data": {
            "image/png": "[encoded data removed]",
            "text/plain": [
              "<Figure size 2016x2016 with 10 Axes>"
            ]
          },
          "metadata": {
            "tags": []
          }
        }
      ]
    }
  ]
}