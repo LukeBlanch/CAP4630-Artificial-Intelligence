{
  "nbformat": 4,
  "nbformat_minor": 0,
  "metadata": {
    "colab": {
      "name": "HW_3_Problem_1.ipynb",
      "provenance": [],
      "authorship_tag": "ABX9TyPgw+hObatBcrjaRqjfiHz5",
      "include_colab_link": true
    },
    "kernelspec": {
      "name": "python3",
      "display_name": "Python 3"
    },
    "accelerator": "GPU"
  },
  "cells": [
    {
      "cell_type": "markdown",
      "metadata": {
        "id": "view-in-github",
        "colab_type": "text"
      },
      "source": [
        "<a href=\"https://colab.research.google.com/github/LukeBlanch/CAP4630-Artificial-Intelligence/blob/master/HW_3/HW_3_Problem_1.ipynb\" target=\"_parent\"><img src=\"https://colab.research.google.com/assets/colab-badge.svg\" alt=\"Open In Colab\"/></a>"
      ]
    },
    {
      "cell_type": "markdown",
      "metadata": {
        "id": "OYZGshqGUfCE",
        "colab_type": "text"
      },
      "source": [
        "# Homework 3 Problem 1:\n",
        "## Luke Blanchard\n"
      ]
    },
    {
      "cell_type": "markdown",
      "metadata": {
        "id": "3zIKWmiooBlA",
        "colab_type": "text"
      },
      "source": [
        "## Imports"
      ]
    },
    {
      "cell_type": "code",
      "metadata": {
        "id": "nX5zSn7Oag_c",
        "colab_type": "code",
        "colab": {}
      },
      "source": [
        "import numpy as np\n",
        "import random\n",
        "import matplotlib.pyplot as plt"
      ],
      "execution_count": 0,
      "outputs": []
    },
    {
      "cell_type": "markdown",
      "metadata": {
        "id": "kzwSxY-CoIa_",
        "colab_type": "text"
      },
      "source": [
        "## get_random_data"
      ]
    },
    {
      "cell_type": "code",
      "metadata": {
        "id": "RB12zsr4WP3w",
        "colab_type": "code",
        "colab": {}
      },
      "source": [
        "def get_random_data(w, b, mu, sigma, m):\n",
        "  data = np.empty((m,2))\n",
        "  labels = np.empty((m,1))\n",
        "\n",
        "  for i in range(m):\n",
        "    # Let the class label be 0 or 1 with equal probability\n",
        "    labels[i] = random.randint(0,1)\n",
        "    # Let x_1 be random between [0, 1)\n",
        "    data[i][0] = random.random()\n",
        "    # Calculate x_2 from x_1 and given parameters\n",
        "    data[i][1] = w * data[i][0] + b + pow(-1, labels[i]) * np.random.default_rng().normal(mu, sigma)\n",
        "    \n",
        "  train_data = data[0:int(m*.8)]\n",
        "  train_labels = labels[0:int(m*.8)]\n",
        "  test_data = data[int(m*.8):m]\n",
        "  test_labels = labels[int(m*.8):m]\n",
        "\n",
        "  return (train_data, train_labels, test_data, test_labels)"
      ],
      "execution_count": 0,
      "outputs": []
    },
    {
      "cell_type": "markdown",
      "metadata": {
        "id": "meFbpUdHoNT1",
        "colab_type": "text"
      },
      "source": [
        "## display_random_data"
      ]
    },
    {
      "cell_type": "code",
      "metadata": {
        "id": "cLlEc5MymRsg",
        "colab_type": "code",
        "colab": {}
      },
      "source": [
        "def display_random_data(train_data, train_labels, test_data, test_labels):\n",
        "  for i in range(len(train_labels)):\n",
        "    if (train_labels[i] == 0):\n",
        "      plt.scatter(train_data[i][0], train_data[i][1], c='b', s=10)\n",
        "    else:\n",
        "      plt.scatter(train_data[i][0], train_data[i][1], c='r', s=10)\n",
        "\n",
        "  for i in range(len(test_labels)):\n",
        "    if (test_labels[i] == 0):\n",
        "      plt.scatter(test_data[i][0], test_data[i][1], c='b', s=10)\n",
        "    else:\n",
        "      plt.scatter(test_data[i][0], test_data[i][1], c='r', s=10)\n"
      ],
      "execution_count": 0,
      "outputs": []
    },
    {
      "cell_type": "markdown",
      "metadata": {
        "id": "_aq1tEfDtmxQ",
        "colab_type": "text"
      },
      "source": [
        "# Examples:"
      ]
    },
    {
      "cell_type": "code",
      "metadata": {
        "id": "TjeQdEDLZDRR",
        "colab_type": "code",
        "outputId": "9bf5caba-f208-4043-9904-d9f90c54ad9b",
        "colab": {
          "base_uri": "https://localhost:8080/",
          "height": 265
        }
      },
      "source": [
        "train_data, train_labels, test_data, test_labels = get_random_data(1, 1, .7, .1, 500)\n",
        "display_random_data(train_data, train_labels, test_data, test_labels)"
      ],
      "execution_count": 4,
      "outputs": [
        {
          "output_type": "display_data",
          "data": {
            "image/png": "[encoded data removed]",
            "text/plain": [
              "<Figure size 432x288 with 1 Axes>"
            ]
          },
          "metadata": {
            "tags": []
          }
        }
      ]
    },
    {
      "cell_type": "code",
      "metadata": {
        "id": "p7lV3rgRtsJ7",
        "colab_type": "code",
        "outputId": "e3e43f1e-2e26-46ff-f938-a518a23fd932",
        "colab": {
          "base_uri": "https://localhost:8080/",
          "height": 265
        }
      },
      "source": [
        "train_data, train_labels, test_data, test_labels = get_random_data(1, 1, .3, .2, 500)\n",
        "display_random_data(train_data, train_labels, test_data, test_labels)"
      ],
      "execution_count": 5,
      "outputs": [
        {
          "output_type": "display_data",
          "data": {
            "image/png": "[encoded data removed]",
            "text/plain": [
              "<Figure size 432x288 with 1 Axes>"
            ]
          },
          "metadata": {
            "tags": []
          }
        }
      ]
    }
  ]
}