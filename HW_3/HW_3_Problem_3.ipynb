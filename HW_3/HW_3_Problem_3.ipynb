{
  "nbformat": 4,
  "nbformat_minor": 0,
  "metadata": {
    "colab": {
      "name": "HW_3_Problem_3.ipynb",
      "provenance": [],
      "collapsed_sections": [],
      "authorship_tag": "ABX9TyPDJisU6LG9Q6LgCscgrUke",
      "include_colab_link": true
    },
    "kernelspec": {
      "name": "python3",
      "display_name": "Python 3"
    }
  },
  "cells": [
    {
      "cell_type": "markdown",
      "metadata": {
        "id": "view-in-github",
        "colab_type": "text"
      },
      "source": [
        "<a href=\"https://colab.research.google.com/github/LukeBlanch/CAP4630-Artificial-Intelligence/blob/master/HW_3/HW_3_Problem_3.ipynb\" target=\"_parent\"><img src=\"https://colab.research.google.com/assets/colab-badge.svg\" alt=\"Open In Colab\"/></a>"
      ]
    },
    {
      "cell_type": "markdown",
      "metadata": {
        "id": "U2PiUUhLONsX",
        "colab_type": "text"
      },
      "source": [
        "# Homework 3 Problem 3:\n",
        "## Luke Blanchard"
      ]
    },
    {
      "cell_type": "markdown",
      "metadata": {
        "id": "YxnRiH-lOTlu",
        "colab_type": "text"
      },
      "source": [
        "## Imports"
      ]
    },
    {
      "cell_type": "code",
      "metadata": {
        "id": "8Wkw0cSdOV0_",
        "colab_type": "code",
        "colab": {}
      },
      "source": [
        "import numpy as np\n",
        "import random\n",
        "import matplotlib.pyplot as plt\n",
        "from sklearn.datasets import make_classification"
      ],
      "execution_count": 0,
      "outputs": []
    },
    {
      "cell_type": "markdown",
      "metadata": {
        "id": "oKlZGgUGRhVQ",
        "colab_type": "text"
      },
      "source": [
        "## Define parameters:"
      ]
    },
    {
      "cell_type": "code",
      "metadata": {
        "id": "AehW6wAHRUFs",
        "colab_type": "code",
        "colab": {}
      },
      "source": [
        "w = 1\n",
        "b = 1\n",
        "mu = .7\n",
        "sigma = .2\n",
        "m = 500"
      ],
      "execution_count": 0,
      "outputs": []
    },
    {
      "cell_type": "markdown",
      "metadata": {
        "id": "oIdCrRYTQ9gb",
        "colab_type": "text"
      },
      "source": [
        "## get_random_data"
      ]
    },
    {
      "cell_type": "code",
      "metadata": {
        "id": "EcqPTuVnQ-GD",
        "colab_type": "code",
        "colab": {}
      },
      "source": [
        "def get_random_data(w, b, mu, sigma, m):\n",
        "  data = np.empty((m,2))\n",
        "  labels = np.empty((m))\n",
        "\n",
        "  for i in range(m):\n",
        "    # Let the class label be 0 or 1 with equal probability\n",
        "    labels[i] = random.randint(0,1)\n",
        "    # Let x_1 be random between [0, 1)\n",
        "    data[i][0] = random.random()\n",
        "    # Calculate x_2 from x_1 and given parameters\n",
        "    data[i][1] = w * data[i][0] + b + pow(-1, labels[i]) * np.random.default_rng().normal(mu, sigma)\n",
        "\n",
        "  return (data, labels)"
      ],
      "execution_count": 0,
      "outputs": []
    },
    {
      "cell_type": "markdown",
      "metadata": {
        "id": "DiPRaZhjRERY",
        "colab_type": "text"
      },
      "source": [
        "## display_random_data"
      ]
    },
    {
      "cell_type": "code",
      "metadata": {
        "id": "7iIqR4PPRFEh",
        "colab_type": "code",
        "colab": {}
      },
      "source": [
        "def display_random_data(data, labels):\n",
        "  for i in range(len(labels)):\n",
        "    if (labels[i] == 0):\n",
        "      plt.scatter(data[i][0], data[i][1], c='b', s=10)\n",
        "    else:\n",
        "      plt.scatter(data[i][0], data[i][1], c='r', s=10)\n",
        "\n",
        "  # Display the dividing line\n",
        "  x = np.array(range(0,2))  \n",
        "  y = eval('w * x + b')\n",
        "  plt.plot(x, y,'green')  "
      ],
      "execution_count": 0,
      "outputs": []
    },
    {
      "cell_type": "markdown",
      "metadata": {
        "id": "IZZVon8qQuMJ",
        "colab_type": "text"
      },
      "source": [
        "## Activation Function: Sigmoid"
      ]
    },
    {
      "cell_type": "code",
      "metadata": {
        "id": "yQOtATucOI7j",
        "colab_type": "code",
        "colab": {}
      },
      "source": [
        "def sigmoid(x):\n",
        "    return 1 / (1 + np.exp(-x))"
      ],
      "execution_count": 0,
      "outputs": []
    },
    {
      "cell_type": "markdown",
      "metadata": {
        "id": "i5BF2MN3SGli",
        "colab_type": "text"
      },
      "source": [
        "## Cost Function:"
      ]
    },
    {
      "cell_type": "code",
      "metadata": {
        "id": "oU0uzajtSJXZ",
        "colab_type": "code",
        "colab": {}
      },
      "source": [
        "def cost(data, labels, theta):\n",
        "    m = len(labels)\n",
        "    h = sigmoid(data @ theta)\n",
        "    epsilon = 1e-5\n",
        "    return (1/m)*(((-labels).T @ np.log(h + epsilon))-((1-labels).T @ np.log(1-h + epsilon)))"
      ],
      "execution_count": 0,
      "outputs": []
    },
    {
      "cell_type": "markdown",
      "metadata": {
        "id": "NMcFsbevUcyy",
        "colab_type": "text"
      },
      "source": [
        "## Gradient Descent"
      ]
    },
    {
      "cell_type": "code",
      "metadata": {
        "id": "jhIdv4P_Ukkw",
        "colab_type": "code",
        "colab": {}
      },
      "source": [
        "def gradient_descent(data, labels, params, learning_rate, iterations):\n",
        "    m = len(labels)\n",
        "    past_cost = np.zeros((iterations,1))\n",
        "\n",
        "    for i in range(iterations):\n",
        "        params = params - (learning_rate/m) * (data.T @ (sigmoid(data @ params) - labels)) \n",
        "        past_cost[i] = cost(data, labels, params)\n",
        "\n",
        "    return (past_cost, params)"
      ],
      "execution_count": 0,
      "outputs": []
    },
    {
      "cell_type": "markdown",
      "metadata": {
        "id": "lGqndzxmU_Xi",
        "colab_type": "text"
      },
      "source": [
        "## Prediction Function"
      ]
    },
    {
      "cell_type": "code",
      "metadata": {
        "id": "vpKPCMWdVCp8",
        "colab_type": "code",
        "colab": {}
      },
      "source": [
        "def predict(data, params):\n",
        "    return np.round(sigmoid(data @ params))"
      ],
      "execution_count": 0,
      "outputs": []
    },
    {
      "cell_type": "markdown",
      "metadata": {
        "id": "DPcUY0QinnWE",
        "colab_type": "text"
      },
      "source": [
        "# Generate data"
      ]
    },
    {
      "cell_type": "code",
      "metadata": {
        "id": "iQoB1_aOVrSI",
        "colab_type": "code",
        "colab": {}
      },
      "source": [
        "originalData, originalLabels = get_random_data(w, b, mu, sigma, m)"
      ],
      "execution_count": 0,
      "outputs": []
    },
    {
      "cell_type": "markdown",
      "metadata": {
        "id": "1TQLbfWentA3",
        "colab_type": "text"
      },
      "source": [
        "# Train the model"
      ]
    },
    {
      "cell_type": "code",
      "metadata": {
        "id": "U6wnI6F9W1HO",
        "colab_type": "code",
        "colab": {}
      },
      "source": [
        "labels = originalLabels[:,np.newaxis]\n",
        "\n",
        "m = len(labels)\n",
        "\n",
        "data = np.hstack((np.ones((m,1)),originalData))\n",
        "n = np.size(data,1)\n",
        "params = np.zeros((n,1))\n",
        "\n",
        "iterations = 1500\n",
        "learning_rate = 0.01\n",
        "\n",
        "initial_cost = cost(data, labels, params)\n",
        "\n",
        "past_cost, params_optimal = gradient_descent(data, labels, params, learning_rate, iterations)"
      ],
      "execution_count": 0,
      "outputs": []
    },
    {
      "cell_type": "markdown",
      "metadata": {
        "id": "AxTWeqXEn5eZ",
        "colab_type": "text"
      },
      "source": [
        "## Display the data:\n",
        "### The green line is the line used to generate the data, and the black line is the one produced by the trained model"
      ]
    },
    {
      "cell_type": "code",
      "metadata": {
        "id": "to4MtUF_X8iI",
        "colab_type": "code",
        "colab": {
          "base_uri": "https://localhost:8080/",
          "height": 265
        },
        "outputId": "a4ebbd61-e12a-4b0c-f40a-e5c889b29433"
      },
      "source": [
        "display_random_data(originalData, originalLabels)\n",
        "\n",
        "slope = -(params_optimal[1] / params_optimal[2])\n",
        "intercept = -(params_optimal[0] / params_optimal[2])\n",
        "\n",
        "x = np.array(range(0,2))\n",
        "y = intercept + (slope * x)\n",
        "plt.plot(x, y, 'black');"
      ],
      "execution_count": 11,
      "outputs": [
        {
          "output_type": "display_data",
          "data": {
            "image/png": "[encoded data removed]",
            "text/plain": [
              "<Figure size 432x288 with 1 Axes>"
            ]
          },
          "metadata": {
            "tags": []
          }
        }
      ]
    }
  ]
}