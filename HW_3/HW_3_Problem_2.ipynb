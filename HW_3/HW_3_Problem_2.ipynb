{
  "nbformat": 4,
  "nbformat_minor": 0,
  "metadata": {
    "colab": {
      "name": "HW_3_Problem_2.ipynb",
      "provenance": [],
      "collapsed_sections": [],
      "authorship_tag": "ABX9TyPQvNEBtdaskNX9Ji3feKzX",
      "include_colab_link": true
    },
    "kernelspec": {
      "name": "python3",
      "display_name": "Python 3"
    },
    "accelerator": "GPU"
  },
  "cells": [
    {
      "cell_type": "markdown",
      "metadata": {
        "id": "view-in-github",
        "colab_type": "text"
      },
      "source": [
        "<a href=\"https://colab.research.google.com/github/LukeBlanch/CAP4630-Artificial-Intelligence/blob/master/HW_3/HW_3_Problem_2.ipynb\" target=\"_parent\"><img src=\"https://colab.research.google.com/assets/colab-badge.svg\" alt=\"Open In Colab\"/></a>"
      ]
    },
    {
      "cell_type": "markdown",
      "metadata": {
        "id": "SGhEvke1V6sK",
        "colab_type": "text"
      },
      "source": [
        "# Homework 3 Problem 2:\n",
        "## Luke Blanchard"
      ]
    },
    {
      "cell_type": "markdown",
      "metadata": {
        "id": "u2s1TBtAWJov",
        "colab_type": "text"
      },
      "source": [
        "## Imports"
      ]
    },
    {
      "cell_type": "code",
      "metadata": {
        "id": "efdj5C1bV1Os",
        "colab_type": "code",
        "colab": {}
      },
      "source": [
        "%tensorflow_version 2.x\n",
        "import tensorflow as tf\n",
        "import numpy as np\n",
        "import random\n",
        "import matplotlib.pyplot as plt"
      ],
      "execution_count": 0,
      "outputs": []
    },
    {
      "cell_type": "markdown",
      "metadata": {
        "id": "Ozc-D396qam4",
        "colab_type": "text"
      },
      "source": [
        "## Define parameters:"
      ]
    },
    {
      "cell_type": "code",
      "metadata": {
        "id": "KMW5CtLrqgt8",
        "colab_type": "code",
        "colab": {}
      },
      "source": [
        "w = 1\n",
        "b = 1\n",
        "mu = .7\n",
        "sigma = .2\n",
        "m = 500"
      ],
      "execution_count": 0,
      "outputs": []
    },
    {
      "cell_type": "markdown",
      "metadata": {
        "id": "wuRzcifmpT4b",
        "colab_type": "text"
      },
      "source": [
        "## get_random_data"
      ]
    },
    {
      "cell_type": "code",
      "metadata": {
        "id": "4qgWGRaBpVPJ",
        "colab_type": "code",
        "colab": {}
      },
      "source": [
        "def get_random_data(w, b, mu, sigma, m):\n",
        "  data = np.empty((m,2))\n",
        "  labels = np.empty((m,1))\n",
        "\n",
        "  for i in range(m):\n",
        "    # Let the class label be 0 or 1 with equal probability\n",
        "    labels[i] = random.randint(0,1)\n",
        "    # Let x_1 be random between [0, 1)\n",
        "    data[i][0] = random.random()\n",
        "    # Calculate x_2 from x_1 and given parameters\n",
        "    data[i][1] = w * data[i][0] + b + pow(-1, labels[i]) * np.random.default_rng().normal(mu, sigma)\n",
        "    \n",
        "  train_data = data[0:int(m*.8)]\n",
        "  train_labels = labels[0:int(m*.8)]\n",
        "  test_data = data[int(m*.8):m]\n",
        "  test_labels = labels[int(m*.8):m]\n",
        "\n",
        "  return (train_data, train_labels, test_data, test_labels)"
      ],
      "execution_count": 0,
      "outputs": []
    },
    {
      "cell_type": "markdown",
      "metadata": {
        "id": "Tg8jTW_2Bb1-",
        "colab_type": "text"
      },
      "source": [
        "## display_random_data"
      ]
    },
    {
      "cell_type": "code",
      "metadata": {
        "id": "7_THXmmgBf8g",
        "colab_type": "code",
        "colab": {}
      },
      "source": [
        "def display_random_data(train_data, train_labels, test_data, test_labels):\n",
        "  for i in range(len(train_labels)):\n",
        "    if (train_labels[i] == 0):\n",
        "      plt.scatter(train_data[i][0], train_data[i][1], c='b', s=10)\n",
        "    else:\n",
        "      plt.scatter(train_data[i][0], train_data[i][1], c='r', s=10)\n",
        "\n",
        "  for i in range(len(test_labels)):\n",
        "    if (test_labels[i] == 0):\n",
        "      plt.scatter(test_data[i][0], test_data[i][1], c='b', s=10)\n",
        "    else:\n",
        "      plt.scatter(test_data[i][0], test_data[i][1], c='r', s=10)\n",
        "\n",
        "  x = np.array(range(0,2))  \n",
        "  y = eval('w * x + b')\n",
        "  plt.plot(x, y,'green')  \n"
      ],
      "execution_count": 0,
      "outputs": []
    },
    {
      "cell_type": "markdown",
      "metadata": {
        "id": "ZCjpdN588_Ad",
        "colab_type": "text"
      },
      "source": [
        "## Build the model"
      ]
    },
    {
      "cell_type": "code",
      "metadata": {
        "id": "AZiLMg9t83Fw",
        "colab_type": "code",
        "colab": {}
      },
      "source": [
        "def build_and_compile_model():\n",
        "    # build model\n",
        "    model = tf.keras.models.Sequential()\n",
        "\n",
        "    model.add(tf.keras.layers.Dense(16, activation='relu', input_shape=(2,)))\n",
        "    model.add(tf.keras.layers.Dense(1, activation='sigmoid'))\n",
        "\n",
        "    # compile model\n",
        "    model.compile(optimizer=tf.keras.optimizers.RMSprop(lr=0.001),\n",
        "                loss='binary_crossentropy',\n",
        "                metrics=['accuracy'])\n",
        "    \n",
        "    return model"
      ],
      "execution_count": 0,
      "outputs": []
    },
    {
      "cell_type": "markdown",
      "metadata": {
        "id": "alonf36-9jXa",
        "colab_type": "text"
      },
      "source": [
        "## Train the model"
      ]
    },
    {
      "cell_type": "code",
      "metadata": {
        "id": "fUkhUFM4-YFZ",
        "colab_type": "code",
        "outputId": "f2e0ce79-327f-4208-fec1-11e25d2f8471",
        "colab": {
          "base_uri": "https://localhost:8080/",
          "height": 580
        }
      },
      "source": [
        "train_data, train_labels, test_data, test_labels = get_random_data(w, b, mu, sigma, m)\n",
        "\n",
        "model = build_and_compile_model()\n",
        "\n",
        "history = model.fit(train_data,\n",
        "                    train_labels,\n",
        "                    epochs=16,\n",
        "                    batch_size=8)"
      ],
      "execution_count": 160,
      "outputs": [
        {
          "output_type": "stream",
          "text": [
            "Epoch 1/16\n",
            "50/50 [==============================] - 0s 2ms/step - loss: 0.6879 - accuracy: 0.5675\n",
            "Epoch 2/16\n",
            "50/50 [==============================] - 0s 2ms/step - loss: 0.6548 - accuracy: 0.9700\n",
            "Epoch 3/16\n",
            "50/50 [==============================] - 0s 2ms/step - loss: 0.6264 - accuracy: 0.9825\n",
            "Epoch 4/16\n",
            "50/50 [==============================] - 0s 2ms/step - loss: 0.6007 - accuracy: 0.9800\n",
            "Epoch 5/16\n",
            "50/50 [==============================] - 0s 2ms/step - loss: 0.5693 - accuracy: 0.9900\n",
            "Epoch 6/16\n",
            "50/50 [==============================] - 0s 2ms/step - loss: 0.5361 - accuracy: 0.9900\n",
            "Epoch 7/16\n",
            "50/50 [==============================] - 0s 2ms/step - loss: 0.5019 - accuracy: 0.9900\n",
            "Epoch 8/16\n",
            "50/50 [==============================] - 0s 2ms/step - loss: 0.4662 - accuracy: 0.9900\n",
            "Epoch 9/16\n",
            "50/50 [==============================] - 0s 2ms/step - loss: 0.4293 - accuracy: 0.9950\n",
            "Epoch 10/16\n",
            "50/50 [==============================] - 0s 2ms/step - loss: 0.3911 - accuracy: 0.9975\n",
            "Epoch 11/16\n",
            "50/50 [==============================] - 0s 2ms/step - loss: 0.3542 - accuracy: 0.9975\n",
            "Epoch 12/16\n",
            "50/50 [==============================] - 0s 2ms/step - loss: 0.3191 - accuracy: 0.9975\n",
            "Epoch 13/16\n",
            "50/50 [==============================] - 0s 2ms/step - loss: 0.2825 - accuracy: 0.9975\n",
            "Epoch 14/16\n",
            "50/50 [==============================] - 0s 2ms/step - loss: 0.2438 - accuracy: 0.9975\n",
            "Epoch 15/16\n",
            "50/50 [==============================] - 0s 2ms/step - loss: 0.2054 - accuracy: 0.9975\n",
            "Epoch 16/16\n",
            "50/50 [==============================] - 0s 2ms/step - loss: 0.1746 - accuracy: 0.9975\n"
          ],
          "name": "stdout"
        }
      ]
    },
    {
      "cell_type": "markdown",
      "metadata": {
        "id": "6DWUA9GqSNzE",
        "colab_type": "text"
      },
      "source": [
        "## Test the model"
      ]
    },
    {
      "cell_type": "code",
      "metadata": {
        "id": "52_saz-7AY63",
        "colab_type": "code",
        "outputId": "ae9604d8-28ab-453d-9dc3-0babb04d97ad",
        "colab": {
          "base_uri": "https://localhost:8080/",
          "height": 52
        }
      },
      "source": [
        "results = model.evaluate(test_data, test_labels)\n",
        "results"
      ],
      "execution_count": 161,
      "outputs": [
        {
          "output_type": "stream",
          "text": [
            "4/4 [==============================] - 0s 2ms/step - loss: 0.1429 - accuracy: 1.0000\n"
          ],
          "name": "stdout"
        },
        {
          "output_type": "execute_result",
          "data": {
            "text/plain": [
              "[0.14291642606258392, 1.0]"
            ]
          },
          "metadata": {
            "tags": []
          },
          "execution_count": 161
        }
      ]
    },
    {
      "cell_type": "markdown",
      "metadata": {
        "id": "__c81JnTSaUI",
        "colab_type": "text"
      },
      "source": [
        "## Display the data:\n",
        "### The green line is the line used to generate the data, and the black line is the one produced by the trained model"
      ]
    },
    {
      "cell_type": "code",
      "metadata": {
        "id": "agVcpl-XBvqM",
        "colab_type": "code",
        "outputId": "2cb05e5a-90f1-4a8f-e511-69202b58bf0e",
        "colab": {
          "base_uri": "https://localhost:8080/",
          "height": 283
        }
      },
      "source": [
        "display_random_data(train_data, train_labels, test_data, test_labels)\n",
        "weights = model.get_weights()\n",
        "w1 = weights[0][0]\n",
        "w2 = weights[0][1]\n",
        "bias = weights[1]\n",
        "x = np.array([0,0.0625,0.0625*2,0.0625*3,0.0625*4,0.0625*5,0.0625*6,0.0625*7,0.0625*8,0.0625*9,0.0625*10,0.0625*11,0.0625*12,0.0625*13,0.0625*14,0.0625*16,])\n",
        "y = eval('-(w1 * x + b) / w2')\n",
        "for i in range(len(x)):\n",
        "  y[i] = ((-1*(np.sum(w1) * x[i] + np.sum(bias))) / np.sum(w2))\n",
        "\n",
        "plt.plot(x,y,'black')\n",
        "\n"
      ],
      "execution_count": 162,
      "outputs": [
        {
          "output_type": "execute_result",
          "data": {
            "text/plain": [
              "[<matplotlib.lines.Line2D at 0x7f1d19d54908>]"
            ]
          },
          "metadata": {
            "tags": []
          },
          "execution_count": 162
        },
        {
          "output_type": "display_data",
          "data": {
            "image/png": "[encoded data removed]",
            "text/plain": [
              "<Figure size 432x288 with 1 Axes>"
            ]
          },
          "metadata": {
            "tags": []
          }
        }
      ]
    }
  ]
}