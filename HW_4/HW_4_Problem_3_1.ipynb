{
  "nbformat": 4,
  "nbformat_minor": 0,
  "metadata": {
    "colab": {
      "name": "HW_4_Problem_3_1.ipynb",
      "provenance": [],
      "include_colab_link": true
    },
    "kernelspec": {
      "name": "python3",
      "display_name": "Python 3"
    },
    "accelerator": "GPU"
  },
  "cells": [
    {
      "cell_type": "markdown",
      "metadata": {
        "id": "view-in-github",
        "colab_type": "text"
      },
      "source": [
        "<a href=\"https://colab.research.google.com/github/LukeBlanch/CAP4630-Artificial-Intelligence/blob/master/HW_4/HW_4_Problem_3_1.ipynb\" target=\"_parent\"><img src=\"https://colab.research.google.com/assets/colab-badge.svg\" alt=\"Open In Colab\"/></a>"
      ]
    },
    {
      "cell_type": "markdown",
      "metadata": {
        "id": "KSrgMJ5vKFzQ",
        "colab_type": "text"
      },
      "source": [
        "# Homework 4 Problem 3 part 1:\n",
        "## Luke Blanchard"
      ]
    },
    {
      "cell_type": "markdown",
      "metadata": {
        "id": "BqIG8QHMLNOn",
        "colab_type": "text"
      },
      "source": [
        "## Download the data"
      ]
    },
    {
      "cell_type": "markdown",
      "metadata": {
        "id": "t3I1jd7cKV6_",
        "colab_type": "text"
      },
      "source": [
        "Download the example data, a zip. of 2,000 JPG pictures of cats and dogs and extract it locally in ```/tmp```.\n",
        "\n"
      ]
    },
    {
      "cell_type": "code",
      "metadata": {
        "id": "JWjprHEXJ5Qi",
        "colab_type": "code",
        "outputId": "f0f77d91-8476-43b4-e668-8bb7ee767450",
        "colab": {
          "base_uri": "https://localhost:8080/",
          "height": 211
        }
      },
      "source": [
        "!wget --no-check-certificate \\\n",
        "    https://storage.googleapis.com/mledu-datasets/cats_and_dogs_filtered.zip \\\n",
        "    -O /tmp/cats_and_dogs_filtered.zip"
      ],
      "execution_count": 0,
      "outputs": [
        {
          "output_type": "stream",
          "text": [
            "--2020-04-19 19:49:02--  https://storage.googleapis.com/mledu-datasets/cats_and_dogs_filtered.zip\n",
            "Resolving storage.googleapis.com (storage.googleapis.com)... 172.217.218.128, 2a00:1450:4013:c01::80\n",
            "Connecting to storage.googleapis.com (storage.googleapis.com)|172.217.218.128|:443... connected.\n",
            "HTTP request sent, awaiting response... 200 OK\n",
            "Length: 68606236 (65M) [application/zip]\n",
            "Saving to: ‘/tmp/cats_and_dogs_filtered.zip’\n",
            "\n",
            "\r          /tmp/cats   0%[                    ]       0  --.-KB/s               \r         /tmp/cats_  89%[================>   ]  58.88M   294MB/s               \r/tmp/cats_and_dogs_ 100%[===================>]  65.43M   305MB/s    in 0.2s    \n",
            "\n",
            "2020-04-19 19:49:02 (305 MB/s) - ‘/tmp/cats_and_dogs_filtered.zip’ saved [68606236/68606236]\n",
            "\n"
          ],
          "name": "stdout"
        }
      ]
    },
    {
      "cell_type": "code",
      "metadata": {
        "id": "WvoHtdA-K6Rw",
        "colab_type": "code",
        "colab": {}
      },
      "source": [
        "import os\n",
        "import zipfile\n",
        "\n",
        "local_zip = '/tmp/cats_and_dogs_filtered.zip'\n",
        "zip_ref = zipfile.ZipFile(local_zip, 'r')\n",
        "zip_ref.extractall('/tmp')\n",
        "zip_ref.close()"
      ],
      "execution_count": 0,
      "outputs": []
    },
    {
      "cell_type": "markdown",
      "metadata": {
        "id": "shZiOBnJMyy_",
        "colab_type": "text"
      },
      "source": [
        "Note that the data provided by Google does not have a test set."
      ]
    },
    {
      "cell_type": "code",
      "metadata": {
        "id": "dL8ikM89LlsH",
        "colab_type": "code",
        "colab": {}
      },
      "source": [
        "base_dir = '/tmp/cats_and_dogs_filtered'\n",
        "train_dir = os.path.join(base_dir, 'train')\n",
        "validation_dir = os.path.join(base_dir, 'validation')\n",
        "\n",
        "# Directory with our training cat pictures\n",
        "train_cats_dir = os.path.join(train_dir, 'cats')\n",
        "\n",
        "# Directory with our training dog pictures\n",
        "train_dogs_dir = os.path.join(train_dir, 'dogs')\n",
        "\n",
        "# Directory with our validation cat pictures\n",
        "validation_cats_dir = os.path.join(validation_dir, 'cats')\n",
        "\n",
        "# Directory with our validation dog pictures\n",
        "validation_dogs_dir = os.path.join(validation_dir, 'dogs')"
      ],
      "execution_count": 0,
      "outputs": []
    },
    {
      "cell_type": "markdown",
      "metadata": {
        "id": "inyP8bcdXnn-",
        "colab_type": "text"
      },
      "source": [
        "## Build network with InceptionV3 convolution base and custom densely connected layers"
      ]
    },
    {
      "cell_type": "markdown",
      "metadata": {
        "id": "kQ48W5T9rHWu",
        "colab_type": "text"
      },
      "source": [
        "### Load the convolutional base"
      ]
    },
    {
      "cell_type": "code",
      "metadata": {
        "id": "Y0FgtANCXm_H",
        "colab_type": "code",
        "outputId": "60a5c1f7-a3e3-4e01-d2ce-f0e683d470da",
        "colab": {
          "base_uri": "https://localhost:8080/",
          "height": 52
        }
      },
      "source": [
        "from keras.applications import InceptionV3\n",
        "\n",
        "conv_base = InceptionV3(\n",
        "    weights='imagenet', \n",
        "    include_top=False, \n",
        "    input_shape=(150, 150, 3))"
      ],
      "execution_count": 0,
      "outputs": [
        {
          "output_type": "stream",
          "text": [
            "Downloading data from https://github.com/fchollet/deep-learning-models/releases/download/v0.5/inception_v3_weights_tf_dim_ordering_tf_kernels_notop.h5\n",
            "87916544/87910968 [==============================] - 3s 0us/step\n"
          ],
          "name": "stdout"
        }
      ]
    },
    {
      "cell_type": "markdown",
      "metadata": {
        "id": "D6OBHOO9q1ou",
        "colab_type": "text"
      },
      "source": [
        "### Freeze the convolutional base"
      ]
    },
    {
      "cell_type": "code",
      "metadata": {
        "id": "UleRo4Dpq6Ld",
        "colab_type": "code",
        "colab": {}
      },
      "source": [
        "conv_base.trainable = False"
      ],
      "execution_count": 0,
      "outputs": []
    },
    {
      "cell_type": "markdown",
      "metadata": {
        "id": "Qfx6PqhPrb7Q",
        "colab_type": "text"
      },
      "source": [
        "### Concatenate the convolutional base and densely connected layers"
      ]
    },
    {
      "cell_type": "code",
      "metadata": {
        "id": "qUpmocDAO3xm",
        "colab_type": "code",
        "colab": {}
      },
      "source": [
        "from keras import layers\n",
        "from keras import models\n",
        "from keras import optimizers\n",
        "\n",
        "model = models.Sequential()\n",
        "model.add(conv_base)\n",
        "model.add(layers.Flatten())\n",
        "model.add(layers.Dense(1, activation='tanh'))"
      ],
      "execution_count": 0,
      "outputs": []
    },
    {
      "cell_type": "code",
      "metadata": {
        "id": "Fh6gZSeAjF7c",
        "colab_type": "code",
        "outputId": "f3d99277-193e-46db-c7f9-702c2cb57f1f",
        "colab": {
          "base_uri": "https://localhost:8080/",
          "height": 263
        }
      },
      "source": [
        "model.summary()"
      ],
      "execution_count": 0,
      "outputs": [
        {
          "output_type": "stream",
          "text": [
            "Model: \"sequential_1\"\n",
            "_________________________________________________________________\n",
            "Layer (type)                 Output Shape              Param #   \n",
            "=================================================================\n",
            "inception_v3 (Model)         (None, 3, 3, 2048)        21802784  \n",
            "_________________________________________________________________\n",
            "flatten_1 (Flatten)          (None, 18432)             0         \n",
            "_________________________________________________________________\n",
            "dense_1 (Dense)              (None, 1)                 18433     \n",
            "=================================================================\n",
            "Total params: 21,821,217\n",
            "Trainable params: 18,433\n",
            "Non-trainable params: 21,802,784\n",
            "_________________________________________________________________\n"
          ],
          "name": "stdout"
        }
      ]
    },
    {
      "cell_type": "markdown",
      "metadata": {
        "id": "eZjBiddhi5Qj",
        "colab_type": "text"
      },
      "source": [
        "## Train the model end to end with frozen convolutional base"
      ]
    },
    {
      "cell_type": "code",
      "metadata": {
        "id": "tfAQlC2Oi41L",
        "colab_type": "code",
        "outputId": "d0fb11d3-b7b8-432a-f421-d4992e434c34",
        "colab": {
          "base_uri": "https://localhost:8080/",
          "height": 1000
        }
      },
      "source": [
        "from keras.preprocessing.image import ImageDataGenerator\n",
        "from keras import optimizers\n",
        "\n",
        "# data augmentation\n",
        "\n",
        "train_datagen = ImageDataGenerator(\n",
        "    rescale=1./255, \n",
        "    rotation_range=40,\n",
        "    width_shift_range=0.2,\n",
        "    height_shift_range=0.2,\n",
        "    shear_range=0.2,\n",
        "    zoom_range=0.2,\n",
        "    horizontal_flip=True,\n",
        "    fill_mode='nearest'\n",
        ")\n",
        "\n",
        "train_generator = train_datagen.flow_from_directory(\n",
        "    train_dir,\n",
        "    target_size=(150, 150),\n",
        "    batch_size=20,\n",
        "    class_mode='binary')\n",
        "\n",
        "validation_datagen = ImageDataGenerator(rescale=1./255)\n",
        "\n",
        "validation_generator = validation_datagen.flow_from_directory(\n",
        "    validation_dir,\n",
        "    target_size=(150, 150),\n",
        "    batch_size=20,\n",
        "    class_mode='binary')\n",
        "\n",
        "# compile model\n",
        "\n",
        "model.compile(\n",
        "    loss='binary_crossentropy', \n",
        "    optimizer=optimizers.RMSprop(lr=2e-5), \n",
        "    metrics=['acc'])\n",
        "\n",
        "# train\n",
        "\n",
        "history = model.fit_generator(\n",
        "    train_generator,\n",
        "    steps_per_epoch=100,\n",
        "    epochs=30,\n",
        "    validation_data=validation_generator,\n",
        "    validation_steps=50\n",
        ")"
      ],
      "execution_count": 0,
      "outputs": [
        {
          "output_type": "stream",
          "text": [
            "Found 2000 images belonging to 2 classes.\n",
            "Found 1000 images belonging to 2 classes.\n",
            "Epoch 1/30\n",
            "100/100 [==============================] - 27s 272ms/step - loss: 2.6570 - acc: 0.4845 - val_loss: 2.5426 - val_acc: 0.4700\n",
            "Epoch 2/30\n",
            "100/100 [==============================] - 17s 167ms/step - loss: 1.6323 - acc: 0.5465 - val_loss: 0.9727 - val_acc: 0.5270\n",
            "Epoch 3/30\n",
            "100/100 [==============================] - 17s 166ms/step - loss: 1.3867 - acc: 0.5745 - val_loss: 1.4300 - val_acc: 0.5700\n",
            "Epoch 4/30\n",
            "100/100 [==============================] - 17s 167ms/step - loss: 1.2536 - acc: 0.5840 - val_loss: 0.5705 - val_acc: 0.5450\n",
            "Epoch 5/30\n",
            "100/100 [==============================] - 17s 166ms/step - loss: 1.3243 - acc: 0.5795 - val_loss: 1.0461 - val_acc: 0.5330\n",
            "Epoch 6/30\n",
            "100/100 [==============================] - 17s 166ms/step - loss: 1.1507 - acc: 0.5880 - val_loss: 2.3594 - val_acc: 0.5020\n",
            "Epoch 7/30\n",
            "100/100 [==============================] - 17s 168ms/step - loss: 1.1805 - acc: 0.5895 - val_loss: 0.4852 - val_acc: 0.4370\n",
            "Epoch 8/30\n",
            "100/100 [==============================] - 17s 166ms/step - loss: 1.1462 - acc: 0.5830 - val_loss: 0.1781 - val_acc: 0.4680\n",
            "Epoch 9/30\n",
            "100/100 [==============================] - 17s 166ms/step - loss: 1.0696 - acc: 0.6140 - val_loss: 1.5456 - val_acc: 0.4440\n",
            "Epoch 10/30\n",
            "100/100 [==============================] - 17s 167ms/step - loss: 1.1166 - acc: 0.6180 - val_loss: 0.8888 - val_acc: 0.4310\n",
            "Epoch 11/30\n",
            "100/100 [==============================] - 17s 166ms/step - loss: 1.0231 - acc: 0.6495 - val_loss: 0.8474 - val_acc: 0.4640\n",
            "Epoch 12/30\n",
            "100/100 [==============================] - 17s 167ms/step - loss: 0.9980 - acc: 0.6360 - val_loss: 0.0955 - val_acc: 0.4660\n",
            "Epoch 13/30\n",
            "100/100 [==============================] - 17s 166ms/step - loss: 1.0240 - acc: 0.6375 - val_loss: 0.8229 - val_acc: 0.4470\n",
            "Epoch 14/30\n",
            "100/100 [==============================] - 17s 166ms/step - loss: 0.9269 - acc: 0.6490 - val_loss: 0.7713 - val_acc: 0.4030\n",
            "Epoch 15/30\n",
            "100/100 [==============================] - 17s 165ms/step - loss: 0.9226 - acc: 0.6440 - val_loss: 1.0666 - val_acc: 0.4270\n",
            "Epoch 16/30\n",
            "100/100 [==============================] - 17s 166ms/step - loss: 0.8979 - acc: 0.6450 - val_loss: 0.0322 - val_acc: 0.4600\n",
            "Epoch 17/30\n",
            "100/100 [==============================] - 17s 167ms/step - loss: 1.0141 - acc: 0.6330 - val_loss: 2.4537 - val_acc: 0.4020\n",
            "Epoch 18/30\n",
            "100/100 [==============================] - 17s 165ms/step - loss: 1.0250 - acc: 0.6270 - val_loss: 1.6225 - val_acc: 0.4440\n",
            "Epoch 19/30\n",
            "100/100 [==============================] - 17s 169ms/step - loss: 0.8091 - acc: 0.6375 - val_loss: 0.0022 - val_acc: 0.4270\n",
            "Epoch 20/30\n",
            "100/100 [==============================] - 17s 166ms/step - loss: 0.9562 - acc: 0.6605 - val_loss: 3.4189 - val_acc: 0.4130\n",
            "Epoch 21/30\n",
            "100/100 [==============================] - 17s 167ms/step - loss: 1.0008 - acc: 0.6425 - val_loss: 0.7921 - val_acc: 0.4380\n",
            "Epoch 22/30\n",
            "100/100 [==============================] - 17s 167ms/step - loss: 1.0176 - acc: 0.6420 - val_loss: 0.0140 - val_acc: 0.4280\n",
            "Epoch 23/30\n",
            "100/100 [==============================] - 17s 166ms/step - loss: 0.9090 - acc: 0.6455 - val_loss: 2.4784 - val_acc: 0.4480\n",
            "Epoch 24/30\n",
            "100/100 [==============================] - 17s 166ms/step - loss: 0.8659 - acc: 0.6670 - val_loss: 0.8165 - val_acc: 0.4400\n",
            "Epoch 25/30\n",
            "100/100 [==============================] - 17s 167ms/step - loss: 0.9714 - acc: 0.6265 - val_loss: 0.7901 - val_acc: 0.4180\n",
            "Epoch 26/30\n",
            "100/100 [==============================] - 17s 168ms/step - loss: 0.9608 - acc: 0.6395 - val_loss: 0.3560 - val_acc: 0.4210\n",
            "Epoch 27/30\n",
            "100/100 [==============================] - 17s 165ms/step - loss: 0.8437 - acc: 0.6485 - val_loss: 0.0759 - val_acc: 0.4550\n",
            "Epoch 28/30\n",
            "100/100 [==============================] - 17s 167ms/step - loss: 0.8285 - acc: 0.6470 - val_loss: 0.7725 - val_acc: 0.4280\n",
            "Epoch 29/30\n",
            "100/100 [==============================] - 17s 166ms/step - loss: 0.8499 - acc: 0.6640 - val_loss: 0.2928 - val_acc: 0.4700\n",
            "Epoch 30/30\n",
            "100/100 [==============================] - 17s 166ms/step - loss: 0.8461 - acc: 0.6560 - val_loss: 2.5400 - val_acc: 0.4310\n"
          ],
          "name": "stdout"
        }
      ]
    },
    {
      "cell_type": "markdown",
      "metadata": {
        "id": "xqRc_vHKc92U",
        "colab_type": "text"
      },
      "source": [
        "## Display curves of loss and accuracy during training"
      ]
    },
    {
      "cell_type": "code",
      "metadata": {
        "id": "ybWwdzz9bwuQ",
        "colab_type": "code",
        "outputId": "5c3810dc-7228-4e47-a5be-fd24d4d681f1",
        "colab": {
          "base_uri": "https://localhost:8080/",
          "height": 545
        }
      },
      "source": [
        "%matplotlib inline\n",
        "\n",
        "import matplotlib.pyplot as plt\n",
        "\n",
        "acc = history.history['acc']\n",
        "val_acc = history.history['val_acc']\n",
        "\n",
        "loss = history.history['loss']\n",
        "val_loss = history.history['val_loss']\n",
        "\n",
        "epochs = range(1, len(acc) + 1)\n",
        "\n",
        "# training and validation accuracy\n",
        "\n",
        "plt.plot(epochs, acc, 'bo', label='training acc')\n",
        "plt.plot(epochs, val_acc, 'b', label='validation acc')\n",
        "plt.title('training and validation accuracy')\n",
        "plt.legend()\n",
        "\n",
        "plt.figure()\n",
        "\n",
        "# training and validation loss\n",
        "\n",
        "plt.plot(epochs, loss, 'bo', label='training loss')\n",
        "plt.plot(epochs, val_loss, 'b', label='validation loss')\n",
        "plt.title('training and validation loss')\n",
        "plt.legend()\n",
        "\n",
        "plt.show()"
      ],
      "execution_count": 0,
      "outputs": [
        {
          "output_type": "display_data",
          "data": {
            "image/png": "[encoded data removed]",
            "text/plain": [
              "<Figure size 432x288 with 1 Axes>"
            ]
          },
          "metadata": {
            "tags": [],
            "needs_background": "light"
          }
        },
        {
          "output_type": "display_data",
          "data": {
            "image/png": "[encoded data removed]",
            "text/plain": [
              "<Figure size 432x288 with 1 Axes>"
            ]
          },
          "metadata": {
            "tags": [],
            "needs_background": "light"
          }
        }
      ]
    },
    {
      "cell_type": "markdown",
      "metadata": {
        "id": "lOWsxpey8lN0",
        "colab_type": "text"
      },
      "source": [
        "## Fine-tuning"
      ]
    },
    {
      "cell_type": "code",
      "metadata": {
        "id": "PwkVMx8N8qMw",
        "colab_type": "code",
        "outputId": "118c3756-90ce-4694-c19e-017ae3a964a2",
        "colab": {
          "base_uri": "https://localhost:8080/",
          "height": 35
        }
      },
      "source": [
        "conv_base.trainable = True\n",
        "\n",
        "set_trainable = False\n",
        "for layer in conv_base.layers:\n",
        "  #print(layer.name)\n",
        "  if layer.name == 'conv2d_39':\n",
        "    set_trainable = True\n",
        "    print(layer.name)\n",
        "  if set_trainable:\n",
        "    layer.trainable = True\n",
        "  else:\n",
        "    layer.trainable = False"
      ],
      "execution_count": 0,
      "outputs": [
        {
          "output_type": "stream",
          "text": [
            "conv2d_39\n"
          ],
          "name": "stdout"
        }
      ]
    },
    {
      "cell_type": "code",
      "metadata": {
        "id": "DyN-J7rs9cvo",
        "colab_type": "code",
        "outputId": "9461a9de-ed45-48fb-cf20-c0b537f56947",
        "colab": {
          "base_uri": "https://localhost:8080/",
          "height": 1000
        }
      },
      "source": [
        "# compile model\n",
        "\n",
        "model.compile(\n",
        "    loss='binary_crossentropy',\n",
        "    #\n",
        "    # choose a smaller learning rate\n",
        "    #\n",
        "    optimizer=optimizers.RMSprop(lr=1e-5), \n",
        "    metrics=['acc'])\n",
        "\n",
        "# train\n",
        "\n",
        "history = model.fit_generator(\n",
        "    train_generator,\n",
        "    steps_per_epoch=100,\n",
        "    epochs=100,\n",
        "    validation_data=validation_generator,\n",
        "    validation_steps=50)"
      ],
      "execution_count": 0,
      "outputs": [
        {
          "output_type": "stream",
          "text": [
            "Epoch 1/100\n",
            "100/100 [==============================] - 40s 397ms/step - loss: 0.5402 - acc: 0.5785 - val_loss: 0.2036 - val_acc: 0.5020\n",
            "Epoch 2/100\n",
            "100/100 [==============================] - 22s 221ms/step - loss: 0.5509 - acc: 0.5590 - val_loss: 1.0802 - val_acc: 0.5020\n",
            "Epoch 3/100\n",
            "100/100 [==============================] - 22s 222ms/step - loss: 0.5822 - acc: 0.5670 - val_loss: 0.8945 - val_acc: 0.4950\n",
            "Epoch 4/100\n",
            "100/100 [==============================] - 22s 221ms/step - loss: 0.7208 - acc: 0.5355 - val_loss: 0.2481 - val_acc: 0.4860\n",
            "Epoch 5/100\n",
            "100/100 [==============================] - 22s 220ms/step - loss: 0.6720 - acc: 0.5435 - val_loss: 1.7729 - val_acc: 0.4760\n",
            "Epoch 6/100\n",
            "100/100 [==============================] - 22s 221ms/step - loss: 0.6275 - acc: 0.5540 - val_loss: 0.8485 - val_acc: 0.4700\n",
            "Epoch 7/100\n",
            "100/100 [==============================] - 22s 219ms/step - loss: 0.6566 - acc: 0.5395 - val_loss: 0.7740 - val_acc: 0.4360\n",
            "Epoch 8/100\n",
            "100/100 [==============================] - 22s 220ms/step - loss: 0.5087 - acc: 0.5600 - val_loss: 2.5134 - val_acc: 0.4640\n",
            "Epoch 9/100\n",
            "100/100 [==============================] - 22s 221ms/step - loss: 0.5586 - acc: 0.5550 - val_loss: 0.2206 - val_acc: 0.4810\n",
            "Epoch 10/100\n",
            "100/100 [==============================] - 22s 221ms/step - loss: 0.5772 - acc: 0.5545 - val_loss: 0.2073 - val_acc: 0.4700\n",
            "Epoch 11/100\n",
            "100/100 [==============================] - 22s 220ms/step - loss: 0.5802 - acc: 0.5305 - val_loss: 0.1613 - val_acc: 0.4890\n",
            "Epoch 12/100\n",
            "100/100 [==============================] - 22s 221ms/step - loss: 0.4761 - acc: 0.5390 - val_loss: 0.7904 - val_acc: 0.4790\n",
            "Epoch 13/100\n",
            "100/100 [==============================] - 22s 221ms/step - loss: 0.4782 - acc: 0.5480 - val_loss: 0.4048 - val_acc: 0.4980\n",
            "Epoch 14/100\n",
            "100/100 [==============================] - 22s 222ms/step - loss: 0.5419 - acc: 0.5310 - val_loss: 1.6053 - val_acc: 0.4740\n",
            "Epoch 15/100\n",
            "100/100 [==============================] - 22s 221ms/step - loss: 0.5420 - acc: 0.5450 - val_loss: 1.8042 - val_acc: 0.4840\n",
            "Epoch 16/100\n",
            "100/100 [==============================] - 22s 222ms/step - loss: 0.4869 - acc: 0.5340 - val_loss: 0.7784 - val_acc: 0.4960\n",
            "Epoch 17/100\n",
            "100/100 [==============================] - 22s 223ms/step - loss: 0.6069 - acc: 0.5255 - val_loss: 1.5884 - val_acc: 0.4990\n",
            "Epoch 18/100\n",
            "100/100 [==============================] - 22s 221ms/step - loss: 0.4315 - acc: 0.5330 - val_loss: 0.7724 - val_acc: 0.4770\n",
            "Epoch 19/100\n",
            "100/100 [==============================] - 22s 221ms/step - loss: 0.5140 - acc: 0.5205 - val_loss: 0.0444 - val_acc: 0.4680\n",
            "Epoch 20/100\n",
            "100/100 [==============================] - 22s 222ms/step - loss: 0.6287 - acc: 0.5245 - val_loss: 7.5960e-04 - val_acc: 0.4810\n",
            "Epoch 21/100\n",
            "100/100 [==============================] - 22s 223ms/step - loss: 0.5655 - acc: 0.5205 - val_loss: 1.0094 - val_acc: 0.4540\n",
            "Epoch 22/100\n",
            "100/100 [==============================] - 22s 222ms/step - loss: 0.4794 - acc: 0.5310 - val_loss: 0.0684 - val_acc: 0.4740\n",
            "Epoch 23/100\n",
            "100/100 [==============================] - 22s 223ms/step - loss: 0.5721 - acc: 0.5125 - val_loss: 1.8510 - val_acc: 0.4880\n",
            "Epoch 24/100\n",
            "100/100 [==============================] - 23s 225ms/step - loss: 0.6142 - acc: 0.5125 - val_loss: 0.1377 - val_acc: 0.4870\n",
            "Epoch 25/100\n",
            "100/100 [==============================] - 23s 226ms/step - loss: 0.5584 - acc: 0.5130 - val_loss: 0.7730 - val_acc: 0.4830\n",
            "Epoch 26/100\n",
            "100/100 [==============================] - 22s 225ms/step - loss: 0.4816 - acc: 0.5160 - val_loss: 0.0011 - val_acc: 0.4810\n",
            "Epoch 27/100\n",
            "100/100 [==============================] - 23s 225ms/step - loss: 0.4875 - acc: 0.5130 - val_loss: 1.5715 - val_acc: 0.4730\n",
            "Epoch 28/100\n",
            "100/100 [==============================] - 23s 226ms/step - loss: 0.4677 - acc: 0.5130 - val_loss: 0.7717 - val_acc: 0.4850\n",
            "Epoch 29/100\n",
            "100/100 [==============================] - 23s 225ms/step - loss: 0.4197 - acc: 0.5240 - val_loss: 1.5715 - val_acc: 0.4860\n",
            "Epoch 30/100\n",
            "100/100 [==============================] - 23s 226ms/step - loss: 0.4091 - acc: 0.5250 - val_loss: 0.0357 - val_acc: 0.5000\n",
            "Epoch 31/100\n",
            "100/100 [==============================] - 23s 227ms/step - loss: 0.4420 - acc: 0.5325 - val_loss: 0.7834 - val_acc: 0.4890\n",
            "Epoch 32/100\n",
            "100/100 [==============================] - 23s 225ms/step - loss: 0.4027 - acc: 0.5230 - val_loss: 0.0566 - val_acc: 0.4920\n",
            "Epoch 33/100\n",
            "100/100 [==============================] - 23s 226ms/step - loss: 0.3843 - acc: 0.5315 - val_loss: 0.2526 - val_acc: 0.5010\n",
            "Epoch 34/100\n",
            "100/100 [==============================] - 22s 222ms/step - loss: 0.3105 - acc: 0.5295 - val_loss: 0.8046 - val_acc: 0.4860\n",
            "Epoch 35/100\n",
            "100/100 [==============================] - 23s 226ms/step - loss: 0.3185 - acc: 0.5230 - val_loss: 0.8598 - val_acc: 0.5030\n",
            "Epoch 36/100\n",
            "100/100 [==============================] - 22s 224ms/step - loss: 0.4117 - acc: 0.5140 - val_loss: 0.0049 - val_acc: 0.5060\n",
            "Epoch 37/100\n",
            "100/100 [==============================] - 22s 222ms/step - loss: 0.4540 - acc: 0.5075 - val_loss: 0.7723 - val_acc: 0.4790\n",
            "Epoch 38/100\n",
            "100/100 [==============================] - 22s 224ms/step - loss: 0.4075 - acc: 0.5135 - val_loss: 0.0091 - val_acc: 0.4730\n",
            "Epoch 39/100\n",
            "100/100 [==============================] - 22s 225ms/step - loss: 0.3869 - acc: 0.5150 - val_loss: 0.0186 - val_acc: 0.4740\n",
            "Epoch 40/100\n",
            "100/100 [==============================] - 23s 225ms/step - loss: 0.4613 - acc: 0.5055 - val_loss: 1.5441 - val_acc: 0.4610\n",
            "Epoch 41/100\n",
            "100/100 [==============================] - 22s 223ms/step - loss: 0.3941 - acc: 0.5160 - val_loss: 0.1541 - val_acc: 0.4810\n",
            "Epoch 42/100\n",
            "100/100 [==============================] - 22s 225ms/step - loss: 0.3369 - acc: 0.5230 - val_loss: 0.7716 - val_acc: 0.4860\n",
            "Epoch 43/100\n",
            "100/100 [==============================] - 22s 223ms/step - loss: 0.4899 - acc: 0.5030 - val_loss: 0.0896 - val_acc: 0.4860\n",
            "Epoch 44/100\n",
            "100/100 [==============================] - 22s 225ms/step - loss: 0.3502 - acc: 0.5170 - val_loss: 0.8432 - val_acc: 0.4880\n",
            "Epoch 45/100\n",
            "100/100 [==============================] - 22s 223ms/step - loss: 0.3621 - acc: 0.5070 - val_loss: 0.0271 - val_acc: 0.4950\n",
            "Epoch 46/100\n",
            "100/100 [==============================] - 22s 223ms/step - loss: 0.3398 - acc: 0.5080 - val_loss: 0.2017 - val_acc: 0.4860\n",
            "Epoch 47/100\n",
            "100/100 [==============================] - 22s 221ms/step - loss: 0.2905 - acc: 0.5105 - val_loss: 0.9940 - val_acc: 0.4900\n",
            "Epoch 48/100\n",
            "100/100 [==============================] - 22s 223ms/step - loss: 0.4452 - acc: 0.5075 - val_loss: 0.0017 - val_acc: 0.4820\n",
            "Epoch 49/100\n",
            "100/100 [==============================] - 22s 225ms/step - loss: 0.3701 - acc: 0.5105 - val_loss: 0.1606 - val_acc: 0.4990\n",
            "Epoch 50/100\n",
            "100/100 [==============================] - 22s 224ms/step - loss: 0.3159 - acc: 0.5135 - val_loss: 0.8308 - val_acc: 0.4990\n",
            "Epoch 51/100\n",
            "100/100 [==============================] - 22s 222ms/step - loss: 0.3161 - acc: 0.5120 - val_loss: 6.7915e-04 - val_acc: 0.4870\n",
            "Epoch 52/100\n",
            "100/100 [==============================] - 22s 224ms/step - loss: 0.3186 - acc: 0.5130 - val_loss: 0.0941 - val_acc: 0.4880\n",
            "Epoch 53/100\n",
            "100/100 [==============================] - 22s 225ms/step - loss: 0.2917 - acc: 0.5165 - val_loss: 0.7845 - val_acc: 0.4880\n",
            "Epoch 54/100\n",
            "100/100 [==============================] - 22s 223ms/step - loss: 0.2830 - acc: 0.5155 - val_loss: 0.3076 - val_acc: 0.4860\n",
            "Epoch 55/100\n",
            "100/100 [==============================] - 22s 222ms/step - loss: 0.3034 - acc: 0.5190 - val_loss: 0.0131 - val_acc: 0.4830\n",
            "Epoch 56/100\n",
            "100/100 [==============================] - 22s 223ms/step - loss: 0.2879 - acc: 0.5175 - val_loss: 2.3923 - val_acc: 0.4910\n",
            "Epoch 57/100\n",
            "100/100 [==============================] - 22s 224ms/step - loss: 0.3457 - acc: 0.5100 - val_loss: 0.1952 - val_acc: 0.4930\n",
            "Epoch 58/100\n",
            "100/100 [==============================] - 22s 224ms/step - loss: 0.3225 - acc: 0.5160 - val_loss: 0.1683 - val_acc: 0.5240\n",
            "Epoch 59/100\n",
            "100/100 [==============================] - 22s 224ms/step - loss: 0.2341 - acc: 0.5190 - val_loss: 2.4921e-04 - val_acc: 0.4960\n",
            "Epoch 60/100\n",
            "100/100 [==============================] - 22s 224ms/step - loss: 0.3567 - acc: 0.5185 - val_loss: 0.1389 - val_acc: 0.4900\n",
            "Epoch 61/100\n",
            "100/100 [==============================] - 22s 222ms/step - loss: 0.2354 - acc: 0.5220 - val_loss: 8.7474e-05 - val_acc: 0.4920\n",
            "Epoch 62/100\n",
            "100/100 [==============================] - 22s 222ms/step - loss: 0.3131 - acc: 0.5170 - val_loss: 1.2510 - val_acc: 0.4910\n",
            "Epoch 63/100\n",
            "100/100 [==============================] - 22s 222ms/step - loss: 0.1495 - acc: 0.5300 - val_loss: 0.7717 - val_acc: 0.4900\n",
            "Epoch 64/100\n",
            "100/100 [==============================] - 23s 225ms/step - loss: 0.2413 - acc: 0.5215 - val_loss: 0.1543 - val_acc: 0.5080\n",
            "Epoch 65/100\n",
            "100/100 [==============================] - 22s 222ms/step - loss: 0.2261 - acc: 0.5250 - val_loss: 0.0413 - val_acc: 0.5180\n",
            "Epoch 66/100\n",
            "100/100 [==============================] - 22s 220ms/step - loss: 0.2134 - acc: 0.5300 - val_loss: 0.7752 - val_acc: 0.4920\n",
            "Epoch 67/100\n",
            "100/100 [==============================] - 22s 220ms/step - loss: 0.2714 - acc: 0.5165 - val_loss: 0.2643 - val_acc: 0.5010\n",
            "Epoch 68/100\n",
            "100/100 [==============================] - 22s 218ms/step - loss: 0.2496 - acc: 0.5085 - val_loss: 0.0017 - val_acc: 0.5020\n",
            "Epoch 69/100\n",
            "100/100 [==============================] - 22s 219ms/step - loss: 0.2546 - acc: 0.5135 - val_loss: 0.5223 - val_acc: 0.5020\n",
            "Epoch 70/100\n",
            "100/100 [==============================] - 22s 218ms/step - loss: 0.1910 - acc: 0.5205 - val_loss: 0.2745 - val_acc: 0.5090\n",
            "Epoch 71/100\n",
            "100/100 [==============================] - 22s 220ms/step - loss: 0.2281 - acc: 0.5135 - val_loss: 0.3350 - val_acc: 0.4980\n",
            "Epoch 72/100\n",
            "100/100 [==============================] - 22s 221ms/step - loss: 0.2032 - acc: 0.5180 - val_loss: 0.0083 - val_acc: 0.4940\n",
            "Epoch 73/100\n",
            "100/100 [==============================] - 22s 218ms/step - loss: 0.2267 - acc: 0.5130 - val_loss: 0.7718 - val_acc: 0.4940\n",
            "Epoch 74/100\n",
            "100/100 [==============================] - 22s 217ms/step - loss: 0.1314 - acc: 0.5215 - val_loss: 0.0093 - val_acc: 0.5040\n",
            "Epoch 75/100\n",
            "100/100 [==============================] - 22s 218ms/step - loss: 0.1403 - acc: 0.5225 - val_loss: 0.0501 - val_acc: 0.5090\n",
            "Epoch 76/100\n",
            "100/100 [==============================] - 22s 217ms/step - loss: 0.2126 - acc: 0.5170 - val_loss: 0.7714 - val_acc: 0.5010\n",
            "Epoch 77/100\n",
            "100/100 [==============================] - 22s 217ms/step - loss: 0.1797 - acc: 0.5250 - val_loss: 0.0065 - val_acc: 0.5130\n",
            "Epoch 78/100\n",
            "100/100 [==============================] - 22s 219ms/step - loss: 0.0993 - acc: 0.5170 - val_loss: 0.0647 - val_acc: 0.5180\n",
            "Epoch 79/100\n",
            "100/100 [==============================] - 22s 217ms/step - loss: 0.1862 - acc: 0.5140 - val_loss: 0.3801 - val_acc: 0.5090\n",
            "Epoch 80/100\n",
            "100/100 [==============================] - 22s 219ms/step - loss: 0.2092 - acc: 0.5185 - val_loss: 0.0039 - val_acc: 0.5060\n",
            "Epoch 81/100\n",
            "100/100 [==============================] - 22s 217ms/step - loss: 0.1714 - acc: 0.5165 - val_loss: 0.0318 - val_acc: 0.5250\n",
            "Epoch 82/100\n",
            "100/100 [==============================] - 22s 220ms/step - loss: 0.2127 - acc: 0.5115 - val_loss: 0.0026 - val_acc: 0.5150\n",
            "Epoch 83/100\n",
            "100/100 [==============================] - 22s 219ms/step - loss: 0.2033 - acc: 0.5210 - val_loss: 0.1545 - val_acc: 0.5010\n",
            "Epoch 84/100\n",
            "100/100 [==============================] - 22s 222ms/step - loss: 0.1226 - acc: 0.5230 - val_loss: 0.1801 - val_acc: 0.5220\n",
            "Epoch 85/100\n",
            "100/100 [==============================] - 22s 219ms/step - loss: 0.1610 - acc: 0.5165 - val_loss: 0.2074 - val_acc: 0.5320\n",
            "Epoch 86/100\n",
            "100/100 [==============================] - 22s 221ms/step - loss: 0.1219 - acc: 0.5215 - val_loss: 3.9688e-04 - val_acc: 0.4970\n",
            "Epoch 87/100\n",
            "100/100 [==============================] - 22s 221ms/step - loss: 0.1695 - acc: 0.5265 - val_loss: 0.0027 - val_acc: 0.5040\n",
            "Epoch 88/100\n",
            "100/100 [==============================] - 22s 221ms/step - loss: 0.1806 - acc: 0.5150 - val_loss: 0.0551 - val_acc: 0.5000\n",
            "Epoch 89/100\n",
            "100/100 [==============================] - 22s 222ms/step - loss: 0.1175 - acc: 0.5235 - val_loss: 0.0049 - val_acc: 0.5010\n",
            "Epoch 90/100\n",
            "100/100 [==============================] - 22s 219ms/step - loss: 0.1795 - acc: 0.5180 - val_loss: 0.0025 - val_acc: 0.5140\n",
            "Epoch 91/100\n",
            "100/100 [==============================] - 22s 222ms/step - loss: 0.1229 - acc: 0.5160 - val_loss: 2.2631e-04 - val_acc: 0.5160\n",
            "Epoch 92/100\n",
            "100/100 [==============================] - 22s 219ms/step - loss: 0.0991 - acc: 0.5155 - val_loss: 0.0115 - val_acc: 0.5060\n",
            "Epoch 93/100\n",
            "100/100 [==============================] - 22s 220ms/step - loss: 0.1516 - acc: 0.5125 - val_loss: 0.0668 - val_acc: 0.4970\n",
            "Epoch 94/100\n",
            "100/100 [==============================] - 22s 220ms/step - loss: 0.1465 - acc: 0.5200 - val_loss: 0.1881 - val_acc: 0.5130\n",
            "Epoch 95/100\n",
            "100/100 [==============================] - 22s 220ms/step - loss: 0.1232 - acc: 0.5175 - val_loss: 0.1802 - val_acc: 0.5320\n",
            "Epoch 96/100\n",
            "100/100 [==============================] - 22s 220ms/step - loss: 0.1505 - acc: 0.5095 - val_loss: 0.7949 - val_acc: 0.5010\n",
            "Epoch 97/100\n",
            "100/100 [==============================] - 22s 221ms/step - loss: 0.1702 - acc: 0.5140 - val_loss: 0.0119 - val_acc: 0.5390\n",
            "Epoch 98/100\n",
            "100/100 [==============================] - 22s 222ms/step - loss: 0.1240 - acc: 0.5100 - val_loss: 0.0669 - val_acc: 0.5390\n",
            "Epoch 99/100\n",
            "100/100 [==============================] - 22s 220ms/step - loss: 0.0971 - acc: 0.5195 - val_loss: 0.1007 - val_acc: 0.5320\n",
            "Epoch 100/100\n",
            "100/100 [==============================] - 22s 222ms/step - loss: 0.1234 - acc: 0.5120 - val_loss: 0.1140 - val_acc: 0.5250\n"
          ],
          "name": "stdout"
        }
      ]
    },
    {
      "cell_type": "markdown",
      "metadata": {
        "id": "eVBQgh5M-Rtz",
        "colab_type": "text"
      },
      "source": [
        "## Display learning curves during fine-tuning"
      ]
    },
    {
      "cell_type": "code",
      "metadata": {
        "id": "mbkIw7Ie-NP4",
        "colab_type": "code",
        "outputId": "ad48edc0-ccfa-4c6e-9241-7005135e675f",
        "colab": {
          "base_uri": "https://localhost:8080/",
          "height": 545
        }
      },
      "source": [
        "%matplotlib inline\n",
        "\n",
        "import matplotlib.pyplot as plt\n",
        "\n",
        "acc = history.history['acc']\n",
        "val_acc = history.history['val_acc']\n",
        "\n",
        "loss = history.history['loss']\n",
        "val_loss = history.history['val_loss']\n",
        "\n",
        "epochs = range(1, len(acc) + 1)\n",
        "\n",
        "# training and validation accuracy\n",
        "\n",
        "plt.plot(epochs, acc, 'bo', label='training acc')\n",
        "plt.plot(epochs, val_acc, 'b', label='validation acc')\n",
        "plt.title('training and validation accuracy')\n",
        "plt.legend()\n",
        "\n",
        "plt.figure()\n",
        "\n",
        "# training and validation loss\n",
        "\n",
        "plt.plot(epochs, loss, 'bo', label='training loss')\n",
        "plt.plot(epochs, val_loss, 'b', label='validation loss')\n",
        "plt.title('training and validation loss')\n",
        "plt.legend()\n",
        "\n",
        "plt.show()"
      ],
      "execution_count": 0,
      "outputs": [
        {
          "output_type": "display_data",
          "data": {
            "image/png": "[encoded data removed]",
            "text/plain": [
              "<Figure size 432x288 with 1 Axes>"
            ]
          },
          "metadata": {
            "tags": [],
            "needs_background": "light"
          }
        },
        {
          "output_type": "display_data",
          "data": {
            "image/png": "[encoded data removed]",
            "text/plain": [
              "<Figure size 432x288 with 1 Axes>"
            ]
          },
          "metadata": {
            "tags": [],
            "needs_background": "light"
          }
        }
      ]
    },
    {
      "cell_type": "markdown",
      "metadata": {
        "id": "obQi6N4ZShdi",
        "colab_type": "text"
      },
      "source": [
        "This looks like overfitting. I should try  adding dropout for the densely connected layer."
      ]
    },
    {
      "cell_type": "markdown",
      "metadata": {
        "id": "he3Nw6TOJwjx",
        "colab_type": "text"
      },
      "source": [
        "## Print out validation loss and accuracy"
      ]
    },
    {
      "cell_type": "code",
      "metadata": {
        "id": "SVQtrk7uJdhl",
        "colab_type": "code",
        "colab": {}
      },
      "source": [
        "val_loss, val_acc = model.evaluate_generator(validation_generator, steps=50)"
      ],
      "execution_count": 0,
      "outputs": []
    },
    {
      "cell_type": "code",
      "metadata": {
        "id": "HpdddLi1SUMe",
        "colab_type": "code",
        "outputId": "fd184309-def9-4e04-cf77-fdfe7d54d486",
        "colab": {
          "base_uri": "https://localhost:8080/",
          "height": 52
        }
      },
      "source": [
        "print(\"Validation loss:\", val_loss)\n",
        "print(\"Validation accuracy:\", val_acc)"
      ],
      "execution_count": 0,
      "outputs": [
        {
          "output_type": "stream",
          "text": [
            "Validation loss: 0.11404819786548615\n",
            "Validation accuracy: 0.5249999761581421\n"
          ],
          "name": "stdout"
        }
      ]
    },
    {
      "cell_type": "markdown",
      "metadata": {
        "id": "7Ww756WToby8",
        "colab_type": "text"
      },
      "source": [
        "## Save the model"
      ]
    },
    {
      "cell_type": "code",
      "metadata": {
        "id": "0lTUpUdwobKW",
        "colab_type": "code",
        "colab": {}
      },
      "source": [
        "model_fname = 'cats_and_dogs_small_4.h5' \n",
        "model.save(model_fname)"
      ],
      "execution_count": 0,
      "outputs": []
    },
    {
      "cell_type": "code",
      "metadata": {
        "id": "VNEL4CCcS0Oj",
        "colab_type": "code",
        "colab": {}
      },
      "source": [
        ""
      ],
      "execution_count": 0,
      "outputs": []
    }
  ]
}