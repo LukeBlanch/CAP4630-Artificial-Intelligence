{
  "nbformat": 4,
  "nbformat_minor": 0,
  "metadata": {
    "colab": {
      "name": "HW_4_Problem_1.ipynb",
      "provenance": [],
      "collapsed_sections": [],
      "authorship_tag": "ABX9TyNz2snqoYMhEuE3t0dKmJIT",
      "include_colab_link": true
    },
    "kernelspec": {
      "name": "python3",
      "display_name": "Python 3"
    }
  },
  "cells": [
    {
      "cell_type": "markdown",
      "metadata": {
        "id": "view-in-github",
        "colab_type": "text"
      },
      "source": [
        "<a href=\"https://colab.research.google.com/github/LukeBlanch/CAP4630-Artificial-Intelligence/blob/master/HW_4/HW_4_Problem_1.ipynb\" target=\"_parent\"><img src=\"https://colab.research.google.com/assets/colab-badge.svg\" alt=\"Open In Colab\"/></a>"
      ]
    },
    {
      "cell_type": "markdown",
      "metadata": {
        "id": "gGMdlmLFpK-p",
        "colab_type": "text"
      },
      "source": [
        "# Homework 4 Problem 1:\n",
        "## Luke Blanchard"
      ]
    },
    {
      "cell_type": "markdown",
      "metadata": {
        "id": "t8EiXNU4ppby",
        "colab_type": "text"
      },
      "source": [
        "## Imports"
      ]
    },
    {
      "cell_type": "code",
      "metadata": {
        "id": "x28QJByOpoG3",
        "colab_type": "code",
        "colab": {}
      },
      "source": [
        "import numpy as np"
      ],
      "execution_count": 0,
      "outputs": []
    },
    {
      "cell_type": "markdown",
      "metadata": {
        "id": "WqJgHRI3ptMK",
        "colab_type": "text"
      },
      "source": [
        "## conv2d function"
      ]
    },
    {
      "cell_type": "code",
      "metadata": {
        "id": "NwvKqVLKlUvJ",
        "colab_type": "code",
        "colab": {}
      },
      "source": [
        "def conv2d(input_mat, kernel_mat):\n",
        "  # Make sure the input matrix is square\n",
        "  if (input_mat[:,0].size != input_mat[0].size):\n",
        "    raise ValueError('Input matrix should be square, but was ', input_mat[0].size, 'X', input_mat[:,0].size)\n",
        "\n",
        "  # Make sure the kernel matrix is square\n",
        "  if (kernel_mat[:,0].size != kernel_mat[0].size):\n",
        "    raise ValueError('Kernel matrix should be square, but was ', kernel_mat[0].size, 'X', kernel_mat[:,0].size)\n",
        "\n",
        "  # Make sure the kernel matrix is odd\n",
        "  #if ((kernel_mat[0].size % 2) != 1):\n",
        "   # raise ValueError('Kernel matrix size must be odd')\n",
        "\n",
        "  # Make sure the input and kernel matrix are compatible\n",
        "  if (kernel_mat[0].size > input_mat[0].size):\n",
        "    raise ValueError('Kernel matrix incompatible with input matrix')\n",
        "\n",
        "  outputSize = input_mat[0].size - kernel_mat[0].size + 1\n",
        "  output_mat = np.zeros((outputSize, outputSize))\n",
        "\n",
        "  for i in range(output_mat[0].size):\n",
        "    for j in range(output_mat[0].size):\n",
        "      for x in range(i, i + kernel_mat[0].size):\n",
        "        for y in range (j, j + kernel_mat[0].size):\n",
        "          output_mat[i][j] += (input_mat[x][y] * kernel_mat[x-i][y-j])\n",
        "\n",
        "\n",
        "\n",
        "  return output_mat"
      ],
      "execution_count": 0,
      "outputs": []
    },
    {
      "cell_type": "markdown",
      "metadata": {
        "id": "ktdvTxBfNy3Z",
        "colab_type": "text"
      },
      "source": [
        "### Example with a 5x5 input and a 3x3 kernel"
      ]
    },
    {
      "cell_type": "code",
      "metadata": {
        "id": "HeqWny2yp0Rs",
        "colab_type": "code",
        "outputId": "db798a76-e631-4ef3-f428-dca593a3bc9d",
        "colab": {
          "base_uri": "https://localhost:8080/",
          "height": 70
        }
      },
      "source": [
        "input_mat = np.array([[1,2,1,2,2],[3,1,2,2,1],[1,3,2,1,3],[2,2,1,3,2],[3,2,1,1,3]])\n",
        "kernel_mat = np.array([[1,2,1],[2,1,2],[1,2,1]])\n",
        "\n",
        "output_mat = conv2d(input_mat, kernel_mat)\n",
        "print(output_mat)"
      ],
      "execution_count": 0,
      "outputs": [
        {
          "output_type": "stream",
          "text": [
            "[[26. 22. 22.]\n",
            " [23. 24. 27.]\n",
            " [25. 24. 22.]]\n"
          ],
          "name": "stdout"
        }
      ]
    },
    {
      "cell_type": "markdown",
      "metadata": {
        "id": "x7MTRfSuN_lM",
        "colab_type": "text"
      },
      "source": [
        "### Example with a 5x5 input and a 1x1 kernel, note the output matrix is the same as the input"
      ]
    },
    {
      "cell_type": "code",
      "metadata": {
        "id": "N3d9_1ieLVTG",
        "colab_type": "code",
        "outputId": "6677cee2-e426-4d50-9dde-f3ef857ec319",
        "colab": {
          "base_uri": "https://localhost:8080/",
          "height": 105
        }
      },
      "source": [
        "input_mat = np.array([[1,2,1,2,2],[3,1,2,2,1],[1,3,2,1,3],[2,2,1,3,2],[3,2,1,1,3]])\n",
        "kernel_mat = np.array([[1]])\n",
        "\n",
        "output_mat = conv2d(input_mat, kernel_mat)\n",
        "print(output_mat)"
      ],
      "execution_count": 0,
      "outputs": [
        {
          "output_type": "stream",
          "text": [
            "[[1. 2. 1. 2. 2.]\n",
            " [3. 1. 2. 2. 1.]\n",
            " [1. 3. 2. 1. 3.]\n",
            " [2. 2. 1. 3. 2.]\n",
            " [3. 2. 1. 1. 3.]]\n"
          ],
          "name": "stdout"
        }
      ]
    },
    {
      "cell_type": "markdown",
      "metadata": {
        "id": "2rXmKTJoOn95",
        "colab_type": "text"
      },
      "source": [
        "### Example with a 5x5 input and a 5x5 kernel"
      ]
    },
    {
      "cell_type": "code",
      "metadata": {
        "id": "JzqniIHfOSDG",
        "colab_type": "code",
        "outputId": "70d0b45d-aa1a-406c-fdd3-06c53ac8723b",
        "colab": {
          "base_uri": "https://localhost:8080/",
          "height": 35
        }
      },
      "source": [
        "input_mat = np.array([[1,2,1,2,2],[3,1,2,2,1],[1,3,2,1,3],[2,2,1,3,2],[3,2,1,1,3]])\n",
        "kernel_mat = np.array([[1,2,1,2,2],[3,1,2,2,1],[1,3,2,1,3],[2,2,1,3,2],[3,2,1,1,3]])\n",
        "\n",
        "output_mat = conv2d(input_mat, kernel_mat)\n",
        "print(output_mat)"
      ],
      "execution_count": 0,
      "outputs": [
        {
          "output_type": "stream",
          "text": [
            "[[103.]]\n"
          ],
          "name": "stdout"
        }
      ]
    },
    {
      "cell_type": "markdown",
      "metadata": {
        "id": "sRT2tEFPPoB5",
        "colab_type": "text"
      },
      "source": [
        "### Example with a 4x4 input and a 3x3 kernel"
      ]
    },
    {
      "cell_type": "code",
      "metadata": {
        "id": "bN9dy4t5PYP2",
        "colab_type": "code",
        "outputId": "6d323105-b164-4878-8775-81f164d477f9",
        "colab": {
          "base_uri": "https://localhost:8080/",
          "height": 52
        }
      },
      "source": [
        "input_mat = np.array([[1,2,1,2],[3,1,2,2],[1,3,2,1],[2,2,1,3]])\n",
        "kernel_mat = np.array([[1,2,1],[2,1,2],[1,2,1]])\n",
        "\n",
        "output_mat = conv2d(input_mat, kernel_mat)\n",
        "print(output_mat)"
      ],
      "execution_count": 0,
      "outputs": [
        {
          "output_type": "stream",
          "text": [
            "[[26. 22.]\n",
            " [23. 24.]]\n"
          ],
          "name": "stdout"
        }
      ]
    },
    {
      "cell_type": "code",
      "metadata": {
        "id": "iDRCpvD6sk-y",
        "colab_type": "code",
        "outputId": "d6440b01-6c1c-4480-d498-7129f6034546",
        "colab": {
          "base_uri": "https://localhost:8080/",
          "height": 70
        }
      },
      "source": [
        "input_mat = np.array([[1,2,1,2],[3,1,2,2],[1,3,2,1],[2,2,1,3]])\n",
        "kernel_mat = np.array([[1,2],[2,1]])\n",
        "\n",
        "output_mat = conv2d(input_mat, kernel_mat)\n",
        "print(output_mat)"
      ],
      "execution_count": 0,
      "outputs": [
        {
          "output_type": "stream",
          "text": [
            "[[12.  8. 11.]\n",
            " [10. 13. 11.]\n",
            " [13. 12.  9.]]\n"
          ],
          "name": "stdout"
        }
      ]
    }
  ]
}