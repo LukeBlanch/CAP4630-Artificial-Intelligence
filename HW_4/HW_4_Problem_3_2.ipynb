{
  "nbformat": 4,
  "nbformat_minor": 0,
  "metadata": {
    "colab": {
      "name": "HW_4_Problem_3_2.ipynb",
      "provenance": [],
      "include_colab_link": true
    },
    "kernelspec": {
      "name": "python3",
      "display_name": "Python 3"
    },
    "accelerator": "GPU"
  },
  "cells": [
    {
      "cell_type": "markdown",
      "metadata": {
        "id": "view-in-github",
        "colab_type": "text"
      },
      "source": [
        "<a href=\"https://colab.research.google.com/github/LukeBlanch/CAP4630-Artificial-Intelligence/blob/master/HW_4/HW_4_Problem_3_2.ipynb\" target=\"_parent\"><img src=\"https://colab.research.google.com/assets/colab-badge.svg\" alt=\"Open In Colab\"/></a>"
      ]
    },
    {
      "cell_type": "markdown",
      "metadata": {
        "id": "KSrgMJ5vKFzQ",
        "colab_type": "text"
      },
      "source": [
        "# Homework 4 Problem 3 part 2:\n",
        "## Luke Blanchard"
      ]
    },
    {
      "cell_type": "markdown",
      "metadata": {
        "id": "BqIG8QHMLNOn",
        "colab_type": "text"
      },
      "source": [
        "## Download the data"
      ]
    },
    {
      "cell_type": "markdown",
      "metadata": {
        "id": "t3I1jd7cKV6_",
        "colab_type": "text"
      },
      "source": [
        "Download the example data, a zip. of 2,000 JPG pictures of cats and dogs and extract it locally in ```/tmp```.\n",
        "\n"
      ]
    },
    {
      "cell_type": "code",
      "metadata": {
        "id": "JWjprHEXJ5Qi",
        "colab_type": "code",
        "outputId": "1677523b-49d7-4b2a-dcd1-89615eb83aa6",
        "colab": {
          "base_uri": "https://localhost:8080/",
          "height": 211
        }
      },
      "source": [
        "!wget --no-check-certificate \\\n",
        "    https://storage.googleapis.com/mledu-datasets/cats_and_dogs_filtered.zip \\\n",
        "    -O /tmp/cats_and_dogs_filtered.zip"
      ],
      "execution_count": 0,
      "outputs": [
        {
          "output_type": "stream",
          "text": [
            "--2020-04-19 19:21:12--  https://storage.googleapis.com/mledu-datasets/cats_and_dogs_filtered.zip\n",
            "Resolving storage.googleapis.com (storage.googleapis.com)... 64.233.189.128, 2404:6800:4008:c00::80\n",
            "Connecting to storage.googleapis.com (storage.googleapis.com)|64.233.189.128|:443... connected.\n",
            "HTTP request sent, awaiting response... 200 OK\n",
            "Length: 68606236 (65M) [application/zip]\n",
            "Saving to: ‘/tmp/cats_and_dogs_filtered.zip’\n",
            "\n",
            "/tmp/cats_and_dogs_ 100%[===================>]  65.43M  81.0MB/s    in 0.8s    \n",
            "\n",
            "2020-04-19 19:21:13 (81.0 MB/s) - ‘/tmp/cats_and_dogs_filtered.zip’ saved [68606236/68606236]\n",
            "\n"
          ],
          "name": "stdout"
        }
      ]
    },
    {
      "cell_type": "code",
      "metadata": {
        "id": "WvoHtdA-K6Rw",
        "colab_type": "code",
        "colab": {}
      },
      "source": [
        "import os\n",
        "import zipfile\n",
        "\n",
        "local_zip = '/tmp/cats_and_dogs_filtered.zip'\n",
        "zip_ref = zipfile.ZipFile(local_zip, 'r')\n",
        "zip_ref.extractall('/tmp')\n",
        "zip_ref.close()"
      ],
      "execution_count": 0,
      "outputs": []
    },
    {
      "cell_type": "markdown",
      "metadata": {
        "id": "shZiOBnJMyy_",
        "colab_type": "text"
      },
      "source": [
        "Note that the data provided by Google does not have a test set."
      ]
    },
    {
      "cell_type": "code",
      "metadata": {
        "id": "dL8ikM89LlsH",
        "colab_type": "code",
        "colab": {}
      },
      "source": [
        "base_dir = '/tmp/cats_and_dogs_filtered'\n",
        "train_dir = os.path.join(base_dir, 'train')\n",
        "validation_dir = os.path.join(base_dir, 'validation')\n",
        "\n",
        "# Directory with our training cat pictures\n",
        "train_cats_dir = os.path.join(train_dir, 'cats')\n",
        "\n",
        "# Directory with our training dog pictures\n",
        "train_dogs_dir = os.path.join(train_dir, 'dogs')\n",
        "\n",
        "# Directory with our validation cat pictures\n",
        "validation_cats_dir = os.path.join(validation_dir, 'cats')\n",
        "\n",
        "# Directory with our validation dog pictures\n",
        "validation_dogs_dir = os.path.join(validation_dir, 'dogs')"
      ],
      "execution_count": 0,
      "outputs": []
    },
    {
      "cell_type": "markdown",
      "metadata": {
        "id": "inyP8bcdXnn-",
        "colab_type": "text"
      },
      "source": [
        "## Build network with InceptionV3 convolution base and custom densely connected layers"
      ]
    },
    {
      "cell_type": "markdown",
      "metadata": {
        "id": "kQ48W5T9rHWu",
        "colab_type": "text"
      },
      "source": [
        "### Load the convolutional base"
      ]
    },
    {
      "cell_type": "code",
      "metadata": {
        "id": "Y0FgtANCXm_H",
        "colab_type": "code",
        "outputId": "718aa14b-4574-4e20-8ac6-dddf6dc9f3ee",
        "colab": {
          "base_uri": "https://localhost:8080/",
          "height": 70
        }
      },
      "source": [
        "from keras.applications import InceptionV3\n",
        "\n",
        "conv_base = InceptionV3(\n",
        "    weights='imagenet', \n",
        "    include_top=False, \n",
        "    input_shape=(150, 150, 3))"
      ],
      "execution_count": 0,
      "outputs": [
        {
          "output_type": "stream",
          "text": [
            "Using TensorFlow backend.\n"
          ],
          "name": "stderr"
        },
        {
          "output_type": "stream",
          "text": [
            "Downloading data from https://github.com/fchollet/deep-learning-models/releases/download/v0.5/inception_v3_weights_tf_dim_ordering_tf_kernels_notop.h5\n",
            "87916544/87910968 [==============================] - 6s 0us/step\n"
          ],
          "name": "stdout"
        }
      ]
    },
    {
      "cell_type": "markdown",
      "metadata": {
        "id": "D6OBHOO9q1ou",
        "colab_type": "text"
      },
      "source": [
        "### Freeze the convolutional base"
      ]
    },
    {
      "cell_type": "code",
      "metadata": {
        "id": "UleRo4Dpq6Ld",
        "colab_type": "code",
        "colab": {}
      },
      "source": [
        "conv_base.trainable = False"
      ],
      "execution_count": 0,
      "outputs": []
    },
    {
      "cell_type": "markdown",
      "metadata": {
        "id": "Qfx6PqhPrb7Q",
        "colab_type": "text"
      },
      "source": [
        "### Concatenate the convolutional base and densely connected layers"
      ]
    },
    {
      "cell_type": "code",
      "metadata": {
        "id": "qUpmocDAO3xm",
        "colab_type": "code",
        "colab": {}
      },
      "source": [
        "from keras import layers\n",
        "from keras import models\n",
        "from keras import optimizers\n",
        "\n",
        "model = models.Sequential()\n",
        "model.add(conv_base)\n",
        "model.add(layers.Flatten())\n",
        "model.add(layers.Dense(64, activation='relu'))\n",
        "model.add(layers.Dropout(0.5))\n",
        "model.add(layers.Dense(64, activation='relu'))\n",
        "model.add(layers.Dropout(0.5))\n",
        "model.add(layers.Dense(1, activation='sigmoid'))"
      ],
      "execution_count": 0,
      "outputs": []
    },
    {
      "cell_type": "code",
      "metadata": {
        "id": "Fh6gZSeAjF7c",
        "colab_type": "code",
        "outputId": "53308479-9c2d-47cf-cfd4-102c2a8a0f37",
        "colab": {
          "base_uri": "https://localhost:8080/",
          "height": 404
        }
      },
      "source": [
        "model.summary()"
      ],
      "execution_count": 0,
      "outputs": [
        {
          "output_type": "stream",
          "text": [
            "Model: \"sequential_1\"\n",
            "_________________________________________________________________\n",
            "Layer (type)                 Output Shape              Param #   \n",
            "=================================================================\n",
            "inception_v3 (Model)         (None, 3, 3, 2048)        21802784  \n",
            "_________________________________________________________________\n",
            "flatten_1 (Flatten)          (None, 18432)             0         \n",
            "_________________________________________________________________\n",
            "dense_1 (Dense)              (None, 64)                1179712   \n",
            "_________________________________________________________________\n",
            "dropout_1 (Dropout)          (None, 64)                0         \n",
            "_________________________________________________________________\n",
            "dense_2 (Dense)              (None, 64)                4160      \n",
            "_________________________________________________________________\n",
            "dropout_2 (Dropout)          (None, 64)                0         \n",
            "_________________________________________________________________\n",
            "dense_3 (Dense)              (None, 1)                 65        \n",
            "=================================================================\n",
            "Total params: 22,986,721\n",
            "Trainable params: 1,183,937\n",
            "Non-trainable params: 21,802,784\n",
            "_________________________________________________________________\n"
          ],
          "name": "stdout"
        }
      ]
    },
    {
      "cell_type": "markdown",
      "metadata": {
        "id": "eZjBiddhi5Qj",
        "colab_type": "text"
      },
      "source": [
        "## Train the model end to end with frozen convolutional base"
      ]
    },
    {
      "cell_type": "code",
      "metadata": {
        "id": "tfAQlC2Oi41L",
        "colab_type": "code",
        "outputId": "ff7a16e5-1f6f-463c-d85d-3af2094a834d",
        "colab": {
          "base_uri": "https://localhost:8080/",
          "height": 1000
        }
      },
      "source": [
        "from keras.preprocessing.image import ImageDataGenerator\n",
        "from keras import optimizers\n",
        "\n",
        "# data augmentation\n",
        "\n",
        "train_datagen = ImageDataGenerator(\n",
        "    rescale=1./255, \n",
        "    rotation_range=40,\n",
        "    width_shift_range=0.2,\n",
        "    height_shift_range=0.2,\n",
        "    shear_range=0.2,\n",
        "    zoom_range=0.2,\n",
        "    horizontal_flip=True,\n",
        "    fill_mode='nearest'\n",
        ")\n",
        "\n",
        "train_generator = train_datagen.flow_from_directory(\n",
        "    train_dir,\n",
        "    target_size=(150, 150),\n",
        "    batch_size=20,\n",
        "    class_mode='binary')\n",
        "\n",
        "validation_datagen = ImageDataGenerator(rescale=1./255)\n",
        "\n",
        "validation_generator = validation_datagen.flow_from_directory(\n",
        "    validation_dir,\n",
        "    target_size=(150, 150),\n",
        "    batch_size=20,\n",
        "    class_mode='binary')\n",
        "\n",
        "# compile model\n",
        "\n",
        "model.compile(\n",
        "    loss='binary_crossentropy', \n",
        "    optimizer=optimizers.RMSprop(lr=2e-5), \n",
        "    metrics=['acc'])\n",
        "\n",
        "# train\n",
        "\n",
        "history = model.fit_generator(\n",
        "    train_generator,\n",
        "    steps_per_epoch=100,\n",
        "    epochs=30,\n",
        "    validation_data=validation_generator,\n",
        "    validation_steps=50\n",
        ")"
      ],
      "execution_count": 0,
      "outputs": [
        {
          "output_type": "stream",
          "text": [
            "Found 2000 images belonging to 2 classes.\n",
            "Found 1000 images belonging to 2 classes.\n",
            "Epoch 1/30\n",
            "100/100 [==============================] - 28s 275ms/step - loss: 0.7599 - acc: 0.4915 - val_loss: 0.5567 - val_acc: 0.6960\n",
            "Epoch 2/30\n",
            "100/100 [==============================] - 17s 168ms/step - loss: 0.6826 - acc: 0.5515 - val_loss: 0.4729 - val_acc: 0.8120\n",
            "Epoch 3/30\n",
            "100/100 [==============================] - 17s 168ms/step - loss: 0.6563 - acc: 0.5900 - val_loss: 0.4783 - val_acc: 0.8690\n",
            "Epoch 4/30\n",
            "100/100 [==============================] - 17s 168ms/step - loss: 0.6450 - acc: 0.6055 - val_loss: 0.5155 - val_acc: 0.8880\n",
            "Epoch 5/30\n",
            "100/100 [==============================] - 17s 167ms/step - loss: 0.6231 - acc: 0.6330 - val_loss: 0.2757 - val_acc: 0.9000\n",
            "Epoch 6/30\n",
            "100/100 [==============================] - 17s 168ms/step - loss: 0.6111 - acc: 0.6380 - val_loss: 0.2078 - val_acc: 0.9030\n",
            "Epoch 7/30\n",
            "100/100 [==============================] - 17s 169ms/step - loss: 0.6101 - acc: 0.6480 - val_loss: 0.1320 - val_acc: 0.9050\n",
            "Epoch 8/30\n",
            "100/100 [==============================] - 17s 168ms/step - loss: 0.5776 - acc: 0.6710 - val_loss: 0.1151 - val_acc: 0.9220\n",
            "Epoch 9/30\n",
            "100/100 [==============================] - 17s 168ms/step - loss: 0.5813 - acc: 0.6665 - val_loss: 0.0788 - val_acc: 0.9230\n",
            "Epoch 10/30\n",
            "100/100 [==============================] - 17s 168ms/step - loss: 0.5776 - acc: 0.6595 - val_loss: 0.0433 - val_acc: 0.9270\n",
            "Epoch 11/30\n",
            "100/100 [==============================] - 17s 168ms/step - loss: 0.5509 - acc: 0.6990 - val_loss: 0.1184 - val_acc: 0.9300\n",
            "Epoch 12/30\n",
            "100/100 [==============================] - 17s 169ms/step - loss: 0.5588 - acc: 0.6895 - val_loss: 0.5878 - val_acc: 0.9280\n",
            "Epoch 13/30\n",
            "100/100 [==============================] - 17s 168ms/step - loss: 0.5535 - acc: 0.7105 - val_loss: 0.3343 - val_acc: 0.9330\n",
            "Epoch 14/30\n",
            "100/100 [==============================] - 17s 168ms/step - loss: 0.5320 - acc: 0.7055 - val_loss: 0.0184 - val_acc: 0.9320\n",
            "Epoch 15/30\n",
            "100/100 [==============================] - 17s 168ms/step - loss: 0.5536 - acc: 0.7035 - val_loss: 0.1901 - val_acc: 0.9290\n",
            "Epoch 16/30\n",
            "100/100 [==============================] - 17s 169ms/step - loss: 0.5236 - acc: 0.7350 - val_loss: 0.2205 - val_acc: 0.9320\n",
            "Epoch 17/30\n",
            "100/100 [==============================] - 17s 169ms/step - loss: 0.5268 - acc: 0.7170 - val_loss: 0.0074 - val_acc: 0.9340\n",
            "Epoch 18/30\n",
            "100/100 [==============================] - 17s 171ms/step - loss: 0.5384 - acc: 0.7155 - val_loss: 0.0743 - val_acc: 0.9330\n",
            "Epoch 19/30\n",
            "100/100 [==============================] - 17s 169ms/step - loss: 0.5188 - acc: 0.7235 - val_loss: 0.2014 - val_acc: 0.9360\n",
            "Epoch 20/30\n",
            "100/100 [==============================] - 17s 168ms/step - loss: 0.5076 - acc: 0.7430 - val_loss: 0.0073 - val_acc: 0.9370\n",
            "Epoch 21/30\n",
            "100/100 [==============================] - 17s 168ms/step - loss: 0.5207 - acc: 0.7325 - val_loss: 0.0082 - val_acc: 0.9380\n",
            "Epoch 22/30\n",
            "100/100 [==============================] - 17s 172ms/step - loss: 0.5121 - acc: 0.7385 - val_loss: 0.0121 - val_acc: 0.9430\n",
            "Epoch 23/30\n",
            "100/100 [==============================] - 17s 168ms/step - loss: 0.5003 - acc: 0.7420 - val_loss: 0.0308 - val_acc: 0.9380\n",
            "Epoch 24/30\n",
            "100/100 [==============================] - 17s 168ms/step - loss: 0.5104 - acc: 0.7490 - val_loss: 0.0986 - val_acc: 0.9440\n",
            "Epoch 25/30\n",
            "100/100 [==============================] - 17s 169ms/step - loss: 0.5013 - acc: 0.7460 - val_loss: 0.3289 - val_acc: 0.9430\n",
            "Epoch 26/30\n",
            "100/100 [==============================] - 17s 169ms/step - loss: 0.4838 - acc: 0.7560 - val_loss: 0.8051 - val_acc: 0.9470\n",
            "Epoch 27/30\n",
            "100/100 [==============================] - 17s 168ms/step - loss: 0.5050 - acc: 0.7360 - val_loss: 0.0896 - val_acc: 0.9510\n",
            "Epoch 28/30\n",
            "100/100 [==============================] - 17s 169ms/step - loss: 0.4810 - acc: 0.7655 - val_loss: 0.4461 - val_acc: 0.9450\n",
            "Epoch 29/30\n",
            "100/100 [==============================] - 17s 168ms/step - loss: 0.4909 - acc: 0.7615 - val_loss: 1.4142e-04 - val_acc: 0.9440\n",
            "Epoch 30/30\n",
            "100/100 [==============================] - 17s 168ms/step - loss: 0.5101 - acc: 0.7470 - val_loss: 1.2384e-04 - val_acc: 0.9470\n"
          ],
          "name": "stdout"
        }
      ]
    },
    {
      "cell_type": "markdown",
      "metadata": {
        "id": "xqRc_vHKc92U",
        "colab_type": "text"
      },
      "source": [
        "## Display curves of loss and accuracy during training"
      ]
    },
    {
      "cell_type": "code",
      "metadata": {
        "id": "ybWwdzz9bwuQ",
        "colab_type": "code",
        "outputId": "48ef83c0-3fc0-46d3-8994-5b9275b408d7",
        "colab": {
          "base_uri": "https://localhost:8080/",
          "height": 545
        }
      },
      "source": [
        "%matplotlib inline\n",
        "\n",
        "import matplotlib.pyplot as plt\n",
        "\n",
        "acc = history.history['acc']\n",
        "val_acc = history.history['val_acc']\n",
        "\n",
        "loss = history.history['loss']\n",
        "val_loss = history.history['val_loss']\n",
        "\n",
        "epochs = range(1, len(acc) + 1)\n",
        "\n",
        "# training and validation accuracy\n",
        "\n",
        "plt.plot(epochs, acc, 'bo', label='training acc')\n",
        "plt.plot(epochs, val_acc, 'b', label='validation acc')\n",
        "plt.title('training and validation accuracy')\n",
        "plt.legend()\n",
        "\n",
        "plt.figure()\n",
        "\n",
        "# training and validation loss\n",
        "\n",
        "plt.plot(epochs, loss, 'bo', label='training loss')\n",
        "plt.plot(epochs, val_loss, 'b', label='validation loss')\n",
        "plt.title('training and validation loss')\n",
        "plt.legend()\n",
        "\n",
        "plt.show()"
      ],
      "execution_count": 0,
      "outputs": [
        {
          "output_type": "display_data",
          "data": {
            "image/png": "[encoded data removed]",
            "text/plain": [
              "<Figure size 432x288 with 1 Axes>"
            ]
          },
          "metadata": {
            "tags": [],
            "needs_background": "light"
          }
        },
        {
          "output_type": "display_data",
          "data": {
            "image/png": "[encoded data removed]",
            "text/plain": [
              "<Figure size 432x288 with 1 Axes>"
            ]
          },
          "metadata": {
            "tags": [],
            "needs_background": "light"
          }
        }
      ]
    },
    {
      "cell_type": "markdown",
      "metadata": {
        "id": "lOWsxpey8lN0",
        "colab_type": "text"
      },
      "source": [
        "## Fine-tuning"
      ]
    },
    {
      "cell_type": "code",
      "metadata": {
        "id": "PwkVMx8N8qMw",
        "colab_type": "code",
        "outputId": "97e19263-8329-4ac6-9f66-6de9d0fec9d9",
        "colab": {
          "base_uri": "https://localhost:8080/",
          "height": 35
        }
      },
      "source": [
        "conv_base.trainable = True\n",
        "\n",
        "set_trainable = False\n",
        "for layer in conv_base.layers:\n",
        "  #print(layer.name)\n",
        "  if layer.name == 'conv2d_39':\n",
        "    set_trainable = True\n",
        "    print(layer.name)\n",
        "  if set_trainable:\n",
        "    layer.trainable = True\n",
        "  else:\n",
        "    layer.trainable = False"
      ],
      "execution_count": 0,
      "outputs": [
        {
          "output_type": "stream",
          "text": [
            "conv2d_39\n"
          ],
          "name": "stdout"
        }
      ]
    },
    {
      "cell_type": "code",
      "metadata": {
        "id": "DyN-J7rs9cvo",
        "colab_type": "code",
        "outputId": "6256afc1-6085-468e-ce26-de1c320c77a2",
        "colab": {
          "base_uri": "https://localhost:8080/",
          "height": 1000
        }
      },
      "source": [
        "# compile model\n",
        "\n",
        "model.compile(\n",
        "    loss='binary_crossentropy',\n",
        "    #\n",
        "    # choose a smaller learning rate\n",
        "    #\n",
        "    optimizer=optimizers.RMSprop(lr=1e-5), \n",
        "    metrics=['acc'])\n",
        "\n",
        "# train\n",
        "\n",
        "history = model.fit_generator(\n",
        "    train_generator,\n",
        "    steps_per_epoch=100,\n",
        "    epochs=100,\n",
        "    validation_data=validation_generator,\n",
        "    validation_steps=50)"
      ],
      "execution_count": 0,
      "outputs": [
        {
          "output_type": "stream",
          "text": [
            "Epoch 1/100\n",
            "100/100 [==============================] - 33s 335ms/step - loss: 0.2726 - acc: 0.8980 - val_loss: 0.2302 - val_acc: 0.9290\n",
            "Epoch 2/100\n",
            "100/100 [==============================] - 20s 205ms/step - loss: 0.2490 - acc: 0.8960 - val_loss: 0.1129 - val_acc: 0.9210\n",
            "Epoch 3/100\n",
            "100/100 [==============================] - 21s 207ms/step - loss: 0.2546 - acc: 0.9015 - val_loss: 0.5048 - val_acc: 0.9210\n",
            "Epoch 4/100\n",
            "100/100 [==============================] - 20s 204ms/step - loss: 0.2511 - acc: 0.9070 - val_loss: 0.5352 - val_acc: 0.9250\n",
            "Epoch 5/100\n",
            "100/100 [==============================] - 21s 205ms/step - loss: 0.2468 - acc: 0.9030 - val_loss: 0.1108 - val_acc: 0.9290\n",
            "Epoch 6/100\n",
            "100/100 [==============================] - 21s 208ms/step - loss: 0.2370 - acc: 0.9150 - val_loss: 0.2818 - val_acc: 0.9350\n",
            "Epoch 7/100\n",
            "100/100 [==============================] - 21s 208ms/step - loss: 0.2536 - acc: 0.9035 - val_loss: 0.1671 - val_acc: 0.9310\n",
            "Epoch 8/100\n",
            "100/100 [==============================] - 21s 210ms/step - loss: 0.2142 - acc: 0.9225 - val_loss: 0.0893 - val_acc: 0.9350\n",
            "Epoch 9/100\n",
            "100/100 [==============================] - 21s 208ms/step - loss: 0.2154 - acc: 0.9195 - val_loss: 0.0599 - val_acc: 0.9380\n",
            "Epoch 10/100\n",
            "100/100 [==============================] - 21s 209ms/step - loss: 0.2073 - acc: 0.9225 - val_loss: 0.3534 - val_acc: 0.9380\n",
            "Epoch 11/100\n",
            "100/100 [==============================] - 21s 212ms/step - loss: 0.2114 - acc: 0.9175 - val_loss: 0.0130 - val_acc: 0.9390\n",
            "Epoch 12/100\n",
            "100/100 [==============================] - 21s 212ms/step - loss: 0.2225 - acc: 0.9210 - val_loss: 0.0160 - val_acc: 0.9450\n",
            "Epoch 13/100\n",
            "100/100 [==============================] - 21s 209ms/step - loss: 0.2258 - acc: 0.9195 - val_loss: 0.0319 - val_acc: 0.9410\n",
            "Epoch 14/100\n",
            "100/100 [==============================] - 21s 208ms/step - loss: 0.1982 - acc: 0.9310 - val_loss: 0.2613 - val_acc: 0.9440\n",
            "Epoch 15/100\n",
            "100/100 [==============================] - 21s 210ms/step - loss: 0.1758 - acc: 0.9365 - val_loss: 0.0099 - val_acc: 0.9420\n",
            "Epoch 16/100\n",
            "100/100 [==============================] - 21s 211ms/step - loss: 0.1998 - acc: 0.9295 - val_loss: 0.0505 - val_acc: 0.9390\n",
            "Epoch 17/100\n",
            "100/100 [==============================] - 21s 208ms/step - loss: 0.1960 - acc: 0.9350 - val_loss: 0.1537 - val_acc: 0.9410\n",
            "Epoch 18/100\n",
            "100/100 [==============================] - 21s 206ms/step - loss: 0.1831 - acc: 0.9330 - val_loss: 0.1951 - val_acc: 0.9430\n",
            "Epoch 19/100\n",
            "100/100 [==============================] - 21s 208ms/step - loss: 0.2230 - acc: 0.9220 - val_loss: 0.3931 - val_acc: 0.9410\n",
            "Epoch 20/100\n",
            "100/100 [==============================] - 21s 210ms/step - loss: 0.1838 - acc: 0.9230 - val_loss: 0.1644 - val_acc: 0.9420\n",
            "Epoch 21/100\n",
            "100/100 [==============================] - 21s 208ms/step - loss: 0.1772 - acc: 0.9340 - val_loss: 0.0143 - val_acc: 0.9430\n",
            "Epoch 22/100\n",
            "100/100 [==============================] - 21s 208ms/step - loss: 0.1900 - acc: 0.9295 - val_loss: 0.4318 - val_acc: 0.9480\n",
            "Epoch 23/100\n",
            "100/100 [==============================] - 21s 209ms/step - loss: 0.1787 - acc: 0.9335 - val_loss: 0.0779 - val_acc: 0.9470\n",
            "Epoch 24/100\n",
            "100/100 [==============================] - 21s 210ms/step - loss: 0.1832 - acc: 0.9405 - val_loss: 0.0026 - val_acc: 0.9490\n",
            "Epoch 25/100\n",
            "100/100 [==============================] - 21s 208ms/step - loss: 0.1962 - acc: 0.9325 - val_loss: 0.1473 - val_acc: 0.9460\n",
            "Epoch 26/100\n",
            "100/100 [==============================] - 21s 209ms/step - loss: 0.1710 - acc: 0.9450 - val_loss: 0.2271 - val_acc: 0.9450\n",
            "Epoch 27/100\n",
            "100/100 [==============================] - 21s 210ms/step - loss: 0.1654 - acc: 0.9455 - val_loss: 0.5167 - val_acc: 0.9470\n",
            "Epoch 28/100\n",
            "100/100 [==============================] - 21s 206ms/step - loss: 0.1837 - acc: 0.9405 - val_loss: 0.3092 - val_acc: 0.9530\n",
            "Epoch 29/100\n",
            "100/100 [==============================] - 20s 204ms/step - loss: 0.1771 - acc: 0.9425 - val_loss: 0.0307 - val_acc: 0.9530\n",
            "Epoch 30/100\n",
            "100/100 [==============================] - 21s 208ms/step - loss: 0.1721 - acc: 0.9490 - val_loss: 0.1306 - val_acc: 0.9450\n",
            "Epoch 31/100\n",
            "100/100 [==============================] - 21s 208ms/step - loss: 0.1498 - acc: 0.9505 - val_loss: 0.4239 - val_acc: 0.9470\n",
            "Epoch 32/100\n",
            "100/100 [==============================] - 21s 209ms/step - loss: 0.1462 - acc: 0.9435 - val_loss: 0.3417 - val_acc: 0.9460\n",
            "Epoch 33/100\n",
            "100/100 [==============================] - 21s 209ms/step - loss: 0.1570 - acc: 0.9450 - val_loss: 0.0534 - val_acc: 0.9430\n",
            "Epoch 34/100\n",
            "100/100 [==============================] - 21s 209ms/step - loss: 0.1574 - acc: 0.9465 - val_loss: 0.2878 - val_acc: 0.9480\n",
            "Epoch 35/100\n",
            "100/100 [==============================] - 20s 203ms/step - loss: 0.1525 - acc: 0.9460 - val_loss: 0.0025 - val_acc: 0.9510\n",
            "Epoch 36/100\n",
            "100/100 [==============================] - 20s 202ms/step - loss: 0.1431 - acc: 0.9485 - val_loss: 0.0018 - val_acc: 0.9490\n",
            "Epoch 37/100\n",
            "100/100 [==============================] - 20s 202ms/step - loss: 0.1617 - acc: 0.9500 - val_loss: 2.8026e-04 - val_acc: 0.9510\n",
            "Epoch 38/100\n",
            "100/100 [==============================] - 20s 202ms/step - loss: 0.1532 - acc: 0.9540 - val_loss: 0.3095 - val_acc: 0.9460\n",
            "Epoch 39/100\n",
            "100/100 [==============================] - 20s 203ms/step - loss: 0.1080 - acc: 0.9625 - val_loss: 1.9803e-04 - val_acc: 0.9530\n",
            "Epoch 40/100\n",
            "100/100 [==============================] - 20s 201ms/step - loss: 0.1365 - acc: 0.9620 - val_loss: 0.1046 - val_acc: 0.9570\n",
            "Epoch 41/100\n",
            "100/100 [==============================] - 20s 201ms/step - loss: 0.1503 - acc: 0.9510 - val_loss: 0.4619 - val_acc: 0.9560\n",
            "Epoch 42/100\n",
            "100/100 [==============================] - 20s 204ms/step - loss: 0.1645 - acc: 0.9465 - val_loss: 0.2011 - val_acc: 0.9540\n",
            "Epoch 43/100\n",
            "100/100 [==============================] - 20s 202ms/step - loss: 0.1188 - acc: 0.9600 - val_loss: 1.1336 - val_acc: 0.9530\n",
            "Epoch 44/100\n",
            "100/100 [==============================] - 20s 202ms/step - loss: 0.1364 - acc: 0.9555 - val_loss: 1.4595e-04 - val_acc: 0.9510\n",
            "Epoch 45/100\n",
            "100/100 [==============================] - 20s 200ms/step - loss: 0.1148 - acc: 0.9560 - val_loss: 0.3041 - val_acc: 0.9530\n",
            "Epoch 46/100\n",
            "100/100 [==============================] - 20s 202ms/step - loss: 0.1088 - acc: 0.9645 - val_loss: 0.0128 - val_acc: 0.9520\n",
            "Epoch 47/100\n",
            "100/100 [==============================] - 20s 202ms/step - loss: 0.1261 - acc: 0.9620 - val_loss: 0.8354 - val_acc: 0.9580\n",
            "Epoch 48/100\n",
            "100/100 [==============================] - 20s 202ms/step - loss: 0.1271 - acc: 0.9630 - val_loss: 0.0503 - val_acc: 0.9550\n",
            "Epoch 49/100\n",
            "100/100 [==============================] - 20s 200ms/step - loss: 0.1325 - acc: 0.9610 - val_loss: 0.3433 - val_acc: 0.9600\n",
            "Epoch 50/100\n",
            "100/100 [==============================] - 20s 201ms/step - loss: 0.1235 - acc: 0.9590 - val_loss: 1.0146 - val_acc: 0.9600\n",
            "Epoch 51/100\n",
            "100/100 [==============================] - 20s 202ms/step - loss: 0.1317 - acc: 0.9620 - val_loss: 0.5762 - val_acc: 0.9560\n",
            "Epoch 52/100\n",
            "100/100 [==============================] - 20s 201ms/step - loss: 0.1347 - acc: 0.9595 - val_loss: 0.3544 - val_acc: 0.9550\n",
            "Epoch 53/100\n",
            "100/100 [==============================] - 20s 200ms/step - loss: 0.1247 - acc: 0.9640 - val_loss: 0.0518 - val_acc: 0.9530\n",
            "Epoch 54/100\n",
            "100/100 [==============================] - 20s 201ms/step - loss: 0.1201 - acc: 0.9635 - val_loss: 2.8244e-04 - val_acc: 0.9490\n",
            "Epoch 55/100\n",
            "100/100 [==============================] - 20s 205ms/step - loss: 0.1058 - acc: 0.9645 - val_loss: 3.9224e-05 - val_acc: 0.9500\n",
            "Epoch 56/100\n",
            "100/100 [==============================] - 20s 201ms/step - loss: 0.1097 - acc: 0.9690 - val_loss: 1.4542e-04 - val_acc: 0.9550\n",
            "Epoch 57/100\n",
            "100/100 [==============================] - 20s 202ms/step - loss: 0.0988 - acc: 0.9695 - val_loss: 1.5206e-04 - val_acc: 0.9550\n",
            "Epoch 58/100\n",
            "100/100 [==============================] - 20s 204ms/step - loss: 0.0915 - acc: 0.9700 - val_loss: 0.1713 - val_acc: 0.9590\n",
            "Epoch 59/100\n",
            "100/100 [==============================] - 20s 203ms/step - loss: 0.1028 - acc: 0.9710 - val_loss: 5.4559e-04 - val_acc: 0.9590\n",
            "Epoch 60/100\n",
            "100/100 [==============================] - 20s 202ms/step - loss: 0.1012 - acc: 0.9695 - val_loss: 0.0346 - val_acc: 0.9590\n",
            "Epoch 61/100\n",
            "100/100 [==============================] - 20s 202ms/step - loss: 0.0976 - acc: 0.9675 - val_loss: 7.6071e-05 - val_acc: 0.9570\n",
            "Epoch 62/100\n",
            "100/100 [==============================] - 20s 201ms/step - loss: 0.0841 - acc: 0.9735 - val_loss: 0.0991 - val_acc: 0.9600\n",
            "Epoch 63/100\n",
            "100/100 [==============================] - 20s 201ms/step - loss: 0.0807 - acc: 0.9760 - val_loss: 0.0012 - val_acc: 0.9610\n",
            "Epoch 64/100\n",
            "100/100 [==============================] - 20s 202ms/step - loss: 0.0875 - acc: 0.9690 - val_loss: 0.0245 - val_acc: 0.9620\n",
            "Epoch 65/100\n",
            "100/100 [==============================] - 20s 202ms/step - loss: 0.1209 - acc: 0.9680 - val_loss: 0.1252 - val_acc: 0.9640\n",
            "Epoch 66/100\n",
            "100/100 [==============================] - 20s 201ms/step - loss: 0.0947 - acc: 0.9680 - val_loss: 0.0081 - val_acc: 0.9570\n",
            "Epoch 67/100\n",
            "100/100 [==============================] - 20s 203ms/step - loss: 0.0951 - acc: 0.9740 - val_loss: 1.4787 - val_acc: 0.9590\n",
            "Epoch 68/100\n",
            "100/100 [==============================] - 20s 201ms/step - loss: 0.0919 - acc: 0.9745 - val_loss: 0.0148 - val_acc: 0.9600\n",
            "Epoch 69/100\n",
            "100/100 [==============================] - 20s 201ms/step - loss: 0.1045 - acc: 0.9705 - val_loss: 0.0409 - val_acc: 0.9480\n",
            "Epoch 70/100\n",
            "100/100 [==============================] - 20s 202ms/step - loss: 0.1016 - acc: 0.9730 - val_loss: 0.0880 - val_acc: 0.9560\n",
            "Epoch 71/100\n",
            "100/100 [==============================] - 20s 201ms/step - loss: 0.0928 - acc: 0.9750 - val_loss: 0.0206 - val_acc: 0.9620\n",
            "Epoch 72/100\n",
            "100/100 [==============================] - 20s 201ms/step - loss: 0.0850 - acc: 0.9770 - val_loss: 5.0552e-05 - val_acc: 0.9520\n",
            "Epoch 73/100\n",
            "100/100 [==============================] - 20s 204ms/step - loss: 0.0837 - acc: 0.9750 - val_loss: 0.1943 - val_acc: 0.9540\n",
            "Epoch 74/100\n",
            "100/100 [==============================] - 20s 201ms/step - loss: 0.0857 - acc: 0.9690 - val_loss: 0.0308 - val_acc: 0.9590\n",
            "Epoch 75/100\n",
            "100/100 [==============================] - 20s 202ms/step - loss: 0.0806 - acc: 0.9780 - val_loss: 0.0488 - val_acc: 0.9620\n",
            "Epoch 76/100\n",
            "100/100 [==============================] - 20s 201ms/step - loss: 0.0950 - acc: 0.9740 - val_loss: 0.0019 - val_acc: 0.9560\n",
            "Epoch 77/100\n",
            "100/100 [==============================] - 20s 200ms/step - loss: 0.0967 - acc: 0.9715 - val_loss: 0.2419 - val_acc: 0.9470\n",
            "Epoch 78/100\n",
            "100/100 [==============================] - 20s 202ms/step - loss: 0.0725 - acc: 0.9785 - val_loss: 0.1260 - val_acc: 0.9500\n",
            "Epoch 79/100\n",
            "100/100 [==============================] - 20s 201ms/step - loss: 0.0882 - acc: 0.9750 - val_loss: 0.0152 - val_acc: 0.9520\n",
            "Epoch 80/100\n",
            "100/100 [==============================] - 20s 202ms/step - loss: 0.0999 - acc: 0.9720 - val_loss: 0.0748 - val_acc: 0.9580\n",
            "Epoch 81/100\n",
            "100/100 [==============================] - 20s 201ms/step - loss: 0.0846 - acc: 0.9720 - val_loss: 0.0190 - val_acc: 0.9570\n",
            "Epoch 82/100\n",
            "100/100 [==============================] - 20s 202ms/step - loss: 0.0555 - acc: 0.9840 - val_loss: 0.0156 - val_acc: 0.9580\n",
            "Epoch 83/100\n",
            "100/100 [==============================] - 20s 203ms/step - loss: 0.0728 - acc: 0.9800 - val_loss: 0.0343 - val_acc: 0.9590\n",
            "Epoch 84/100\n",
            "100/100 [==============================] - 20s 203ms/step - loss: 0.0549 - acc: 0.9850 - val_loss: 0.1786 - val_acc: 0.9590\n",
            "Epoch 85/100\n",
            "100/100 [==============================] - 20s 204ms/step - loss: 0.0813 - acc: 0.9780 - val_loss: 0.2163 - val_acc: 0.9650\n",
            "Epoch 86/100\n",
            "100/100 [==============================] - 20s 204ms/step - loss: 0.0822 - acc: 0.9800 - val_loss: 0.1554 - val_acc: 0.9600\n",
            "Epoch 87/100\n",
            "100/100 [==============================] - 20s 203ms/step - loss: 0.0708 - acc: 0.9750 - val_loss: 0.3174 - val_acc: 0.9610\n",
            "Epoch 88/100\n",
            "100/100 [==============================] - 21s 206ms/step - loss: 0.0787 - acc: 0.9830 - val_loss: 5.8605 - val_acc: 0.9570\n",
            "Epoch 89/100\n",
            "100/100 [==============================] - 20s 203ms/step - loss: 0.0497 - acc: 0.9840 - val_loss: 0.0376 - val_acc: 0.9640\n",
            "Epoch 90/100\n",
            "100/100 [==============================] - 20s 202ms/step - loss: 0.0659 - acc: 0.9810 - val_loss: 0.1938 - val_acc: 0.9630\n",
            "Epoch 91/100\n",
            "100/100 [==============================] - 21s 206ms/step - loss: 0.0595 - acc: 0.9820 - val_loss: 7.1848e-04 - val_acc: 0.9560\n",
            "Epoch 92/100\n",
            "100/100 [==============================] - 20s 204ms/step - loss: 0.0635 - acc: 0.9835 - val_loss: 0.0124 - val_acc: 0.9660\n",
            "Epoch 93/100\n",
            "100/100 [==============================] - 20s 203ms/step - loss: 0.0778 - acc: 0.9820 - val_loss: 0.1306 - val_acc: 0.9580\n",
            "Epoch 94/100\n",
            "100/100 [==============================] - 20s 204ms/step - loss: 0.0704 - acc: 0.9865 - val_loss: 0.0824 - val_acc: 0.9620\n",
            "Epoch 95/100\n",
            "100/100 [==============================] - 20s 203ms/step - loss: 0.0610 - acc: 0.9810 - val_loss: 1.2435 - val_acc: 0.9650\n",
            "Epoch 96/100\n",
            "100/100 [==============================] - 20s 204ms/step - loss: 0.0674 - acc: 0.9850 - val_loss: 0.0023 - val_acc: 0.9630\n",
            "Epoch 97/100\n",
            "100/100 [==============================] - 20s 204ms/step - loss: 0.0459 - acc: 0.9850 - val_loss: 0.3855 - val_acc: 0.9630\n",
            "Epoch 98/100\n",
            "100/100 [==============================] - 20s 204ms/step - loss: 0.0681 - acc: 0.9850 - val_loss: 0.1837 - val_acc: 0.9600\n",
            "Epoch 99/100\n",
            "100/100 [==============================] - 21s 207ms/step - loss: 0.0671 - acc: 0.9840 - val_loss: 0.3381 - val_acc: 0.9650\n",
            "Epoch 100/100\n",
            "100/100 [==============================] - 21s 210ms/step - loss: 0.0624 - acc: 0.9815 - val_loss: 0.3155 - val_acc: 0.9640\n"
          ],
          "name": "stdout"
        }
      ]
    },
    {
      "cell_type": "markdown",
      "metadata": {
        "id": "eVBQgh5M-Rtz",
        "colab_type": "text"
      },
      "source": [
        "## Display learning curves during fine-tuning"
      ]
    },
    {
      "cell_type": "code",
      "metadata": {
        "id": "mbkIw7Ie-NP4",
        "colab_type": "code",
        "outputId": "f69ce365-eeb3-4c09-d1fe-10722843ba79",
        "colab": {
          "base_uri": "https://localhost:8080/",
          "height": 545
        }
      },
      "source": [
        "%matplotlib inline\n",
        "\n",
        "import matplotlib.pyplot as plt\n",
        "\n",
        "acc = history.history['acc']\n",
        "val_acc = history.history['val_acc']\n",
        "\n",
        "loss = history.history['loss']\n",
        "val_loss = history.history['val_loss']\n",
        "\n",
        "epochs = range(1, len(acc) + 1)\n",
        "\n",
        "# training and validation accuracy\n",
        "\n",
        "plt.plot(epochs, acc, 'bo', label='training acc')\n",
        "plt.plot(epochs, val_acc, 'b', label='validation acc')\n",
        "plt.title('training and validation accuracy')\n",
        "plt.legend()\n",
        "\n",
        "plt.figure()\n",
        "\n",
        "# training and validation loss\n",
        "\n",
        "plt.plot(epochs, loss, 'bo', label='training loss')\n",
        "plt.plot(epochs, val_loss, 'b', label='validation loss')\n",
        "plt.title('training and validation loss')\n",
        "plt.legend()\n",
        "\n",
        "plt.show()"
      ],
      "execution_count": 0,
      "outputs": [
        {
          "output_type": "display_data",
          "data": {
            "image/png": "[encoded data removed]",
            "text/plain": [
              "<Figure size 432x288 with 1 Axes>"
            ]
          },
          "metadata": {
            "tags": [],
            "needs_background": "light"
          }
        },
        {
          "output_type": "display_data",
          "data": {
            "image/png": "[encoded data removed]",
            "text/plain": [
              "<Figure size 432x288 with 1 Axes>"
            ]
          },
          "metadata": {
            "tags": [],
            "needs_background": "light"
          }
        }
      ]
    },
    {
      "cell_type": "markdown",
      "metadata": {
        "id": "obQi6N4ZShdi",
        "colab_type": "text"
      },
      "source": [
        "This looks like overfitting. I should try  adding dropout for the densely connected layer."
      ]
    },
    {
      "cell_type": "markdown",
      "metadata": {
        "id": "he3Nw6TOJwjx",
        "colab_type": "text"
      },
      "source": [
        "## Print out validation loss and accuracy"
      ]
    },
    {
      "cell_type": "code",
      "metadata": {
        "id": "SVQtrk7uJdhl",
        "colab_type": "code",
        "colab": {}
      },
      "source": [
        "val_loss, val_acc = model.evaluate_generator(validation_generator, steps=50)"
      ],
      "execution_count": 0,
      "outputs": []
    },
    {
      "cell_type": "code",
      "metadata": {
        "id": "HpdddLi1SUMe",
        "colab_type": "code",
        "outputId": "b583495e-9190-4a0a-afb4-48e8eb153c85",
        "colab": {
          "base_uri": "https://localhost:8080/",
          "height": 52
        }
      },
      "source": [
        "print(\"Validation loss:\", val_loss)\n",
        "print(\"Validation accuracy:\", val_acc)"
      ],
      "execution_count": 0,
      "outputs": [
        {
          "output_type": "stream",
          "text": [
            "Validation loss: 0.10951123386621475\n",
            "Validation accuracy: 0.9639999866485596\n"
          ],
          "name": "stdout"
        }
      ]
    },
    {
      "cell_type": "markdown",
      "metadata": {
        "id": "7Ww756WToby8",
        "colab_type": "text"
      },
      "source": [
        "## Save the model"
      ]
    },
    {
      "cell_type": "code",
      "metadata": {
        "id": "0lTUpUdwobKW",
        "colab_type": "code",
        "colab": {}
      },
      "source": [
        "model_fname = 'cats_and_dogs_small_4.h5' \n",
        "model.save(model_fname)"
      ],
      "execution_count": 0,
      "outputs": []
    },
    {
      "cell_type": "code",
      "metadata": {
        "id": "VNEL4CCcS0Oj",
        "colab_type": "code",
        "colab": {}
      },
      "source": [
        ""
      ],
      "execution_count": 0,
      "outputs": []
    }
  ]
}