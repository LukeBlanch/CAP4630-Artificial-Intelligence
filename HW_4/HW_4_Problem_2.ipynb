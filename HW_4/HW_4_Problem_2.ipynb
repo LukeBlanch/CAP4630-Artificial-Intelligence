{
  "nbformat": 4,
  "nbformat_minor": 0,
  "metadata": {
    "colab": {
      "name": "HW_4_Problem_2.ipynb",
      "provenance": [],
      "authorship_tag": "ABX9TyNGzz6fRDgCVl/0X16DbE8g",
      "include_colab_link": true
    },
    "kernelspec": {
      "name": "python3",
      "display_name": "Python 3"
    }
  },
  "cells": [
    {
      "cell_type": "markdown",
      "metadata": {
        "id": "view-in-github",
        "colab_type": "text"
      },
      "source": [
        "<a href=\"https://colab.research.google.com/github/LukeBlanch/CAP4630-Artificial-Intelligence/blob/master/HW_4/HW_4_Problem_2.ipynb\" target=\"_parent\"><img src=\"https://colab.research.google.com/assets/colab-badge.svg\" alt=\"Open In Colab\"/></a>"
      ]
    },
    {
      "cell_type": "markdown",
      "metadata": {
        "id": "QiZg1hzrbTAe",
        "colab_type": "text"
      },
      "source": [
        "# Homework 4 Problem 2:\n",
        "## Luke Blanchard"
      ]
    },
    {
      "cell_type": "markdown",
      "metadata": {
        "id": "OOIQwRiXbV_y",
        "colab_type": "text"
      },
      "source": [
        "## Imports"
      ]
    },
    {
      "cell_type": "code",
      "metadata": {
        "id": "zD_aEBS3bKD8",
        "colab_type": "code",
        "colab": {}
      },
      "source": [
        "import numpy as np"
      ],
      "execution_count": 0,
      "outputs": []
    },
    {
      "cell_type": "markdown",
      "metadata": {
        "id": "Rb3v043PbdM4",
        "colab_type": "text"
      },
      "source": [
        "## maxpooling2d function"
      ]
    },
    {
      "cell_type": "code",
      "metadata": {
        "id": "Y0thAvipbkai",
        "colab_type": "code",
        "colab": {}
      },
      "source": [
        "def maxpooling2d(input_mat, s):\n",
        "\n",
        "  # Make sure the input matrix is square\n",
        "  if (input_mat[:,0].size != input_mat[0].size):\n",
        "    raise ValueError('Input matrix should be square, but was ', input_mat[0].size, 'X', input_mat[:,0].size)\n",
        "\n",
        "  # Make sure the input matrix and window size are compatible\n",
        "  if (s > input_mat[0].size):\n",
        "    raise ValueError('Window size s incompatible with input matrix')\n",
        "\n",
        "  size = input_mat[0].size\n",
        "  outputSize = int(size / s)\n",
        "  output_mat = np.zeros((outputSize, outputSize))\n",
        "\n",
        "  for i in range(0, size, s):\n",
        "    if ((i + s) > size):\n",
        "      break\n",
        "    for j in range(0, size, s):\n",
        "      if ((j + s) > size):\n",
        "        break\n",
        "      max = 0\n",
        "      # Find the maximum value in the current window\n",
        "      for x in range(i,i+s):\n",
        "        for y in range(j,j+s):\n",
        "          if (input_mat[x][y] > max):\n",
        "            max = input_mat[x][y]\n",
        "      # Add the maximum window value to the output matrix\n",
        "      output_mat[int(i/s)][int(j/s)] = max\n",
        "\n",
        "  return output_mat"
      ],
      "execution_count": 0,
      "outputs": []
    },
    {
      "cell_type": "markdown",
      "metadata": {
        "id": "nUD26aV21rSu",
        "colab_type": "text"
      },
      "source": [
        "### Example with a 5x5 input and a 2x2 window"
      ]
    },
    {
      "cell_type": "code",
      "metadata": {
        "id": "XxF1906Lb0PY",
        "colab_type": "code",
        "outputId": "01233980-f8b5-4e49-d63d-1d295ba530ef",
        "colab": {
          "base_uri": "https://localhost:8080/",
          "height": 52
        }
      },
      "source": [
        "input_mat = np.array([[1,2,1,2,2],[3,1,2,2,1],[1,3,2,1,3],[2,2,1,3,2],[3,2,1,1,3]])\n",
        "\n",
        "output_mat = maxpooling2d(input_mat, 2)\n",
        "print(output_mat)"
      ],
      "execution_count": 0,
      "outputs": [
        {
          "output_type": "stream",
          "text": [
            "[[3. 2.]\n",
            " [3. 3.]]\n"
          ],
          "name": "stdout"
        }
      ]
    },
    {
      "cell_type": "markdown",
      "metadata": {
        "id": "8hIAm04o1vjE",
        "colab_type": "text"
      },
      "source": [
        "### Example with a 5x5 input and a 1x1 window, note the output matrix is the same as the input"
      ]
    },
    {
      "cell_type": "code",
      "metadata": {
        "id": "PMExNBRl1z3i",
        "colab_type": "code",
        "outputId": "aeec77e0-e1df-4bb4-a7f6-915039382da5",
        "colab": {
          "base_uri": "https://localhost:8080/",
          "height": 105
        }
      },
      "source": [
        "input_mat = np.array([[1,2,1,2,2],[3,1,2,2,1],[1,3,2,1,3],[2,2,1,3,2],[3,2,1,1,3]])\n",
        "\n",
        "output_mat = maxpooling2d(input_mat, 1)\n",
        "print(output_mat)"
      ],
      "execution_count": 0,
      "outputs": [
        {
          "output_type": "stream",
          "text": [
            "[[1. 2. 1. 2. 2.]\n",
            " [3. 1. 2. 2. 1.]\n",
            " [1. 3. 2. 1. 3.]\n",
            " [2. 2. 1. 3. 2.]\n",
            " [3. 2. 1. 1. 3.]]\n"
          ],
          "name": "stdout"
        }
      ]
    },
    {
      "cell_type": "markdown",
      "metadata": {
        "id": "ZmrfvRIb2KLe",
        "colab_type": "text"
      },
      "source": [
        "### Example with a 5x5 input and a 5x5 window"
      ]
    },
    {
      "cell_type": "code",
      "metadata": {
        "id": "80H-cuQl2N4C",
        "colab_type": "code",
        "outputId": "b2fc3f24-f367-48fa-92ea-7daa99f7736b",
        "colab": {
          "base_uri": "https://localhost:8080/",
          "height": 35
        }
      },
      "source": [
        "input_mat = np.array([[1,2,1,2,2],[3,1,2,2,1],[1,3,2,1,3],[2,2,1,3,2],[3,2,1,1,3]])\n",
        "\n",
        "output_mat = maxpooling2d(input_mat, 5)\n",
        "print(output_mat)"
      ],
      "execution_count": 0,
      "outputs": [
        {
          "output_type": "stream",
          "text": [
            "[[3.]]\n"
          ],
          "name": "stdout"
        }
      ]
    },
    {
      "cell_type": "markdown",
      "metadata": {
        "id": "WLSoqC1v2VeK",
        "colab_type": "text"
      },
      "source": [
        "### Example with a 6x6 input and a 3x3 window"
      ]
    },
    {
      "cell_type": "code",
      "metadata": {
        "id": "Pks-ogen2VKl",
        "colab_type": "code",
        "outputId": "642f58ea-114f-40bc-f72b-2951ce6e1311",
        "colab": {
          "base_uri": "https://localhost:8080/",
          "height": 52
        }
      },
      "source": [
        "input_mat = np.array([[1,2,1,2,2,2],[3,1,2,2,1,0],[1,3,2,1,3,1],[2,2,1,3,2,1],[3,2,1,1,3,1],[1,2,2,1,1,0]])\n",
        "\n",
        "output_mat = maxpooling2d(input_mat, 3)\n",
        "print(output_mat)"
      ],
      "execution_count": 0,
      "outputs": [
        {
          "output_type": "stream",
          "text": [
            "[[3. 3.]\n",
            " [3. 3.]]\n"
          ],
          "name": "stdout"
        }
      ]
    },
    {
      "cell_type": "code",
      "metadata": {
        "id": "JMqtK-fVtFoi",
        "colab_type": "code",
        "outputId": "dcd42b97-f335-400e-fbf1-dbc28b5b9229",
        "colab": {
          "base_uri": "https://localhost:8080/",
          "height": 414
        }
      },
      "source": [
        "import skimage.measure\n",
        "\n",
        "input_mat = []\n",
        "expected_mat = []\n",
        "s = []\n",
        "input_mat.append(np.array([[1, 2, 1, 2],\n",
        "                      [2, 4, 2, 1],\n",
        "                      [1, 2, 4, 2],\n",
        "                      [2, 1, 2, 1]]))\n",
        "s.append(2)\n",
        "\n",
        "expected_mat.append(np.array([[4, 2],\n",
        "                                [2, 4]]))\n",
        "\n",
        "input_mat.append(np.array([[1, 2, 1, 2, 4, 5],\n",
        "                      [2, 4, 2, 1, 0, 3],\n",
        "                      [1, 2, 4, 2, 4, 5],\n",
        "                      [2, 1, 2, 1, 2, 1],\n",
        "                      [1, 1, 2, 3, 1, 2]]))\n",
        "s.append(2)\n",
        "\n",
        "expected_mat.append([[4, 2, 5],\n",
        " [2, 4, 5],\n",
        " [1, 3, 2]])\n",
        "\n",
        "\n",
        "for i in range(len(input_mat)):\n",
        "  # uncomment top line and comment second line to test code\n",
        "  output_mat = maxpooling2d(input_mat[i], s[i])\n",
        "  #output_mat = skimage.measure.block_reduce(input_mat[i], (s[i],s[i]), np.max)\n",
        "\n",
        "  print(output_mat)\n",
        "\n",
        "  if np.array_equal(output_mat, expected_mat[i]):\n",
        "    print(\"Correct output!\")\n",
        "  else:\n",
        "    print(\"Incorrect output!\")"
      ],
      "execution_count": 0,
      "outputs": [
        {
          "output_type": "stream",
          "text": [
            "[[4. 2.]\n",
            " [2. 4.]]\n",
            "Correct output!\n"
          ],
          "name": "stdout"
        },
        {
          "output_type": "error",
          "ename": "ValueError",
          "evalue": "ignored",
          "traceback": [
            "\u001b[0;31m---------------------------------------------------------------------------\u001b[0m",
            "\u001b[0;31mValueError\u001b[0m                                Traceback (most recent call last)",
            "\u001b[0;32m<ipython-input-137-20b8bb9826f8>\u001b[0m in \u001b[0;36m<module>\u001b[0;34m()\u001b[0m\n\u001b[1;32m     27\u001b[0m \u001b[0;32mfor\u001b[0m \u001b[0mi\u001b[0m \u001b[0;32min\u001b[0m \u001b[0mrange\u001b[0m\u001b[0;34m(\u001b[0m\u001b[0mlen\u001b[0m\u001b[0;34m(\u001b[0m\u001b[0minput_mat\u001b[0m\u001b[0;34m)\u001b[0m\u001b[0;34m)\u001b[0m\u001b[0;34m:\u001b[0m\u001b[0;34m\u001b[0m\u001b[0;34m\u001b[0m\u001b[0m\n\u001b[1;32m     28\u001b[0m   \u001b[0;31m# uncomment top line and comment second line to test code\u001b[0m\u001b[0;34m\u001b[0m\u001b[0;34m\u001b[0m\u001b[0;34m\u001b[0m\u001b[0m\n\u001b[0;32m---> 29\u001b[0;31m   \u001b[0moutput_mat\u001b[0m \u001b[0;34m=\u001b[0m \u001b[0mmaxpooling2d\u001b[0m\u001b[0;34m(\u001b[0m\u001b[0minput_mat\u001b[0m\u001b[0;34m[\u001b[0m\u001b[0mi\u001b[0m\u001b[0;34m]\u001b[0m\u001b[0;34m,\u001b[0m \u001b[0ms\u001b[0m\u001b[0;34m[\u001b[0m\u001b[0mi\u001b[0m\u001b[0;34m]\u001b[0m\u001b[0;34m)\u001b[0m\u001b[0;34m\u001b[0m\u001b[0;34m\u001b[0m\u001b[0m\n\u001b[0m\u001b[1;32m     30\u001b[0m   \u001b[0;31m#output_mat = skimage.measure.block_reduce(input_mat[i], (s[i],s[i]), np.max)\u001b[0m\u001b[0;34m\u001b[0m\u001b[0;34m\u001b[0m\u001b[0;34m\u001b[0m\u001b[0m\n\u001b[1;32m     31\u001b[0m \u001b[0;34m\u001b[0m\u001b[0m\n",
            "\u001b[0;32m<ipython-input-132-0442f06e6109>\u001b[0m in \u001b[0;36mmaxpooling2d\u001b[0;34m(input_mat, s)\u001b[0m\n\u001b[1;32m      3\u001b[0m   \u001b[0;31m# Make sure the input matrix is square\u001b[0m\u001b[0;34m\u001b[0m\u001b[0;34m\u001b[0m\u001b[0;34m\u001b[0m\u001b[0m\n\u001b[1;32m      4\u001b[0m   \u001b[0;32mif\u001b[0m \u001b[0;34m(\u001b[0m\u001b[0minput_mat\u001b[0m\u001b[0;34m[\u001b[0m\u001b[0;34m:\u001b[0m\u001b[0;34m,\u001b[0m\u001b[0;36m0\u001b[0m\u001b[0;34m]\u001b[0m\u001b[0;34m.\u001b[0m\u001b[0msize\u001b[0m \u001b[0;34m!=\u001b[0m \u001b[0minput_mat\u001b[0m\u001b[0;34m[\u001b[0m\u001b[0;36m0\u001b[0m\u001b[0;34m]\u001b[0m\u001b[0;34m.\u001b[0m\u001b[0msize\u001b[0m\u001b[0;34m)\u001b[0m\u001b[0;34m:\u001b[0m\u001b[0;34m\u001b[0m\u001b[0;34m\u001b[0m\u001b[0m\n\u001b[0;32m----> 5\u001b[0;31m     \u001b[0;32mraise\u001b[0m \u001b[0mValueError\u001b[0m\u001b[0;34m(\u001b[0m\u001b[0;34m'Input matrix should be square, but was '\u001b[0m\u001b[0;34m,\u001b[0m \u001b[0minput_mat\u001b[0m\u001b[0;34m[\u001b[0m\u001b[0;36m0\u001b[0m\u001b[0;34m]\u001b[0m\u001b[0;34m.\u001b[0m\u001b[0msize\u001b[0m\u001b[0;34m,\u001b[0m \u001b[0;34m'X'\u001b[0m\u001b[0;34m,\u001b[0m \u001b[0minput_mat\u001b[0m\u001b[0;34m[\u001b[0m\u001b[0;34m:\u001b[0m\u001b[0;34m,\u001b[0m\u001b[0;36m0\u001b[0m\u001b[0;34m]\u001b[0m\u001b[0;34m.\u001b[0m\u001b[0msize\u001b[0m\u001b[0;34m)\u001b[0m\u001b[0;34m\u001b[0m\u001b[0;34m\u001b[0m\u001b[0m\n\u001b[0m\u001b[1;32m      6\u001b[0m \u001b[0;34m\u001b[0m\u001b[0m\n\u001b[1;32m      7\u001b[0m   \u001b[0;31m# Make sure the input matrix and window size are compatible\u001b[0m\u001b[0;34m\u001b[0m\u001b[0;34m\u001b[0m\u001b[0;34m\u001b[0m\u001b[0m\n",
            "\u001b[0;31mValueError\u001b[0m: ('Input matrix should be square, but was ', 6, 'X', 5)"
          ]
        }
      ]
    }
  ]
}